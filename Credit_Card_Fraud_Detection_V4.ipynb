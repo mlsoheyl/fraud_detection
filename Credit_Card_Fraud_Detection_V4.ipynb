{
 "cells": [
  {
   "cell_type": "markdown",
   "id": "242da6c9",
   "metadata": {
    "pycharm": {
     "name": "#%% md\n"
    }
   },
   "source": [
    "# Introduction"
   ]
  },
  {
   "cell_type": "markdown",
   "id": "2090688a",
   "metadata": {
    "pycharm": {
     "name": "#%% md\n"
    }
   },
   "source": [
    "#### Title: Credit Card Fraud Detection using Anomaly Detection methods\n",
    "#### Course: Expert Data Mining"
   ]
  },
  {
   "cell_type": "markdown",
   "source": [
    "<a href='https://www.kaggle.com/datasets/mlg-ulb/creditcardfraud'>Dataset link</a>"
   ],
   "metadata": {
    "collapsed": false,
    "pycharm": {
     "name": "#%% md\n"
    }
   }
  },
  {
   "cell_type": "markdown",
   "id": "aa0b66ec",
   "metadata": {
    "pycharm": {
     "name": "#%% md\n"
    }
   },
   "source": [
    "# Initialization\n",
    "Import necessary library"
   ]
  },
  {
   "cell_type": "code",
   "execution_count": 1,
   "id": "deddf216",
   "metadata": {
    "pycharm": {
     "name": "#%%\n"
    }
   },
   "outputs": [],
   "source": [
    "import os\n",
    "import numpy as np\n",
    "import pandas as pd\n",
    "import matplotlib.pyplot as plt\n",
    "import seaborn as sns\n",
    "import scipy as stats\n",
    "\n",
    "from sklearn.model_selection import train_test_split"
   ]
  },
  {
   "cell_type": "markdown",
   "id": "ba82ff37",
   "metadata": {
    "pycharm": {
     "name": "#%% md\n"
    }
   },
   "source": [
    "# Import Dataset"
   ]
  },
  {
   "cell_type": "code",
   "execution_count": 2,
   "id": "59ade215",
   "metadata": {
    "pycharm": {
     "name": "#%%\n"
    }
   },
   "outputs": [
    {
     "data": {
      "text/html": [
       "<div>\n",
       "<style scoped>\n",
       "    .dataframe tbody tr th:only-of-type {\n",
       "        vertical-align: middle;\n",
       "    }\n",
       "\n",
       "    .dataframe tbody tr th {\n",
       "        vertical-align: top;\n",
       "    }\n",
       "\n",
       "    .dataframe thead th {\n",
       "        text-align: right;\n",
       "    }\n",
       "</style>\n",
       "<table border=\"1\" class=\"dataframe\">\n",
       "  <thead>\n",
       "    <tr style=\"text-align: right;\">\n",
       "      <th></th>\n",
       "      <th>Time</th>\n",
       "      <th>V1</th>\n",
       "      <th>V2</th>\n",
       "      <th>V3</th>\n",
       "      <th>V4</th>\n",
       "      <th>V5</th>\n",
       "      <th>V6</th>\n",
       "      <th>V7</th>\n",
       "      <th>V8</th>\n",
       "      <th>V9</th>\n",
       "      <th>...</th>\n",
       "      <th>V21</th>\n",
       "      <th>V22</th>\n",
       "      <th>V23</th>\n",
       "      <th>V24</th>\n",
       "      <th>V25</th>\n",
       "      <th>V26</th>\n",
       "      <th>V27</th>\n",
       "      <th>V28</th>\n",
       "      <th>Amount</th>\n",
       "      <th>Class</th>\n",
       "    </tr>\n",
       "  </thead>\n",
       "  <tbody>\n",
       "    <tr>\n",
       "      <th>0</th>\n",
       "      <td>0.0</td>\n",
       "      <td>-1.359807</td>\n",
       "      <td>-0.072781</td>\n",
       "      <td>2.536347</td>\n",
       "      <td>1.378155</td>\n",
       "      <td>-0.338321</td>\n",
       "      <td>0.462388</td>\n",
       "      <td>0.239599</td>\n",
       "      <td>0.098698</td>\n",
       "      <td>0.363787</td>\n",
       "      <td>...</td>\n",
       "      <td>-0.018307</td>\n",
       "      <td>0.277838</td>\n",
       "      <td>-0.110474</td>\n",
       "      <td>0.066928</td>\n",
       "      <td>0.128539</td>\n",
       "      <td>-0.189115</td>\n",
       "      <td>0.133558</td>\n",
       "      <td>-0.021053</td>\n",
       "      <td>149.62</td>\n",
       "      <td>0</td>\n",
       "    </tr>\n",
       "    <tr>\n",
       "      <th>1</th>\n",
       "      <td>0.0</td>\n",
       "      <td>1.191857</td>\n",
       "      <td>0.266151</td>\n",
       "      <td>0.166480</td>\n",
       "      <td>0.448154</td>\n",
       "      <td>0.060018</td>\n",
       "      <td>-0.082361</td>\n",
       "      <td>-0.078803</td>\n",
       "      <td>0.085102</td>\n",
       "      <td>-0.255425</td>\n",
       "      <td>...</td>\n",
       "      <td>-0.225775</td>\n",
       "      <td>-0.638672</td>\n",
       "      <td>0.101288</td>\n",
       "      <td>-0.339846</td>\n",
       "      <td>0.167170</td>\n",
       "      <td>0.125895</td>\n",
       "      <td>-0.008983</td>\n",
       "      <td>0.014724</td>\n",
       "      <td>2.69</td>\n",
       "      <td>0</td>\n",
       "    </tr>\n",
       "    <tr>\n",
       "      <th>2</th>\n",
       "      <td>1.0</td>\n",
       "      <td>-1.358354</td>\n",
       "      <td>-1.340163</td>\n",
       "      <td>1.773209</td>\n",
       "      <td>0.379780</td>\n",
       "      <td>-0.503198</td>\n",
       "      <td>1.800499</td>\n",
       "      <td>0.791461</td>\n",
       "      <td>0.247676</td>\n",
       "      <td>-1.514654</td>\n",
       "      <td>...</td>\n",
       "      <td>0.247998</td>\n",
       "      <td>0.771679</td>\n",
       "      <td>0.909412</td>\n",
       "      <td>-0.689281</td>\n",
       "      <td>-0.327642</td>\n",
       "      <td>-0.139097</td>\n",
       "      <td>-0.055353</td>\n",
       "      <td>-0.059752</td>\n",
       "      <td>378.66</td>\n",
       "      <td>0</td>\n",
       "    </tr>\n",
       "    <tr>\n",
       "      <th>3</th>\n",
       "      <td>1.0</td>\n",
       "      <td>-0.966272</td>\n",
       "      <td>-0.185226</td>\n",
       "      <td>1.792993</td>\n",
       "      <td>-0.863291</td>\n",
       "      <td>-0.010309</td>\n",
       "      <td>1.247203</td>\n",
       "      <td>0.237609</td>\n",
       "      <td>0.377436</td>\n",
       "      <td>-1.387024</td>\n",
       "      <td>...</td>\n",
       "      <td>-0.108300</td>\n",
       "      <td>0.005274</td>\n",
       "      <td>-0.190321</td>\n",
       "      <td>-1.175575</td>\n",
       "      <td>0.647376</td>\n",
       "      <td>-0.221929</td>\n",
       "      <td>0.062723</td>\n",
       "      <td>0.061458</td>\n",
       "      <td>123.50</td>\n",
       "      <td>0</td>\n",
       "    </tr>\n",
       "    <tr>\n",
       "      <th>4</th>\n",
       "      <td>2.0</td>\n",
       "      <td>-1.158233</td>\n",
       "      <td>0.877737</td>\n",
       "      <td>1.548718</td>\n",
       "      <td>0.403034</td>\n",
       "      <td>-0.407193</td>\n",
       "      <td>0.095921</td>\n",
       "      <td>0.592941</td>\n",
       "      <td>-0.270533</td>\n",
       "      <td>0.817739</td>\n",
       "      <td>...</td>\n",
       "      <td>-0.009431</td>\n",
       "      <td>0.798278</td>\n",
       "      <td>-0.137458</td>\n",
       "      <td>0.141267</td>\n",
       "      <td>-0.206010</td>\n",
       "      <td>0.502292</td>\n",
       "      <td>0.219422</td>\n",
       "      <td>0.215153</td>\n",
       "      <td>69.99</td>\n",
       "      <td>0</td>\n",
       "    </tr>\n",
       "  </tbody>\n",
       "</table>\n",
       "<p>5 rows × 31 columns</p>\n",
       "</div>"
      ],
      "text/plain": [
       "   Time        V1        V2        V3        V4        V5        V6        V7  \\\n",
       "0   0.0 -1.359807 -0.072781  2.536347  1.378155 -0.338321  0.462388  0.239599   \n",
       "1   0.0  1.191857  0.266151  0.166480  0.448154  0.060018 -0.082361 -0.078803   \n",
       "2   1.0 -1.358354 -1.340163  1.773209  0.379780 -0.503198  1.800499  0.791461   \n",
       "3   1.0 -0.966272 -0.185226  1.792993 -0.863291 -0.010309  1.247203  0.237609   \n",
       "4   2.0 -1.158233  0.877737  1.548718  0.403034 -0.407193  0.095921  0.592941   \n",
       "\n",
       "         V8        V9  ...       V21       V22       V23       V24       V25  \\\n",
       "0  0.098698  0.363787  ... -0.018307  0.277838 -0.110474  0.066928  0.128539   \n",
       "1  0.085102 -0.255425  ... -0.225775 -0.638672  0.101288 -0.339846  0.167170   \n",
       "2  0.247676 -1.514654  ...  0.247998  0.771679  0.909412 -0.689281 -0.327642   \n",
       "3  0.377436 -1.387024  ... -0.108300  0.005274 -0.190321 -1.175575  0.647376   \n",
       "4 -0.270533  0.817739  ... -0.009431  0.798278 -0.137458  0.141267 -0.206010   \n",
       "\n",
       "        V26       V27       V28  Amount  Class  \n",
       "0 -0.189115  0.133558 -0.021053  149.62      0  \n",
       "1  0.125895 -0.008983  0.014724    2.69      0  \n",
       "2 -0.139097 -0.055353 -0.059752  378.66      0  \n",
       "3 -0.221929  0.062723  0.061458  123.50      0  \n",
       "4  0.502292  0.219422  0.215153   69.99      0  \n",
       "\n",
       "[5 rows x 31 columns]"
      ]
     },
     "execution_count": 2,
     "metadata": {},
     "output_type": "execute_result"
    }
   ],
   "source": [
    "credit = pd.read_csv('creditcard.csv')\n",
    "credit.head()"
   ]
  },
  {
   "cell_type": "markdown",
   "id": "4f80ea10",
   "metadata": {
    "pycharm": {
     "name": "#%% md\n"
    }
   },
   "source": [
    "# Define input and output"
   ]
  },
  {
   "cell_type": "code",
   "execution_count": 3,
   "id": "14f93472",
   "metadata": {
    "pycharm": {
     "name": "#%%\n"
    }
   },
   "outputs": [
    {
     "name": "stdout",
     "output_type": "stream",
     "text": [
      "Shape X is (284807, 30) and shape y is (284807, 1)\n"
     ]
    }
   ],
   "source": [
    "X = credit.drop(labels=['Class'], axis=1)\n",
    "y = credit.drop(labels=['Time', 'V1', 'V2', 'V3', 'V4', 'V5', 'V6', 'V7', 'V8', 'V9', 'V10', 'V11',\n",
    "                      'V12', 'V13', 'V14', 'V15', 'V16', 'V17', 'V18', 'V19', 'V20', 'V20', 'V21',\n",
    "                      'V22', 'V23', 'V24', 'V25', 'V26', 'V27', 'V28', 'Amount'], axis=1)\n",
    "print(f'Shape X is {X.shape} and shape y is {y.shape}')"
   ]
  },
  {
   "cell_type": "markdown",
   "id": "4c75d848",
   "metadata": {
    "pycharm": {
     "name": "#%% md\n"
    }
   },
   "source": [
    "# Descriptive statistics"
   ]
  },
  {
   "cell_type": "code",
   "execution_count": 4,
   "id": "1c40d1f7",
   "metadata": {
    "scrolled": true,
    "pycharm": {
     "name": "#%%\n"
    }
   },
   "outputs": [
    {
     "data": {
      "text/html": [
       "<div>\n",
       "<style scoped>\n",
       "    .dataframe tbody tr th:only-of-type {\n",
       "        vertical-align: middle;\n",
       "    }\n",
       "\n",
       "    .dataframe tbody tr th {\n",
       "        vertical-align: top;\n",
       "    }\n",
       "\n",
       "    .dataframe thead th {\n",
       "        text-align: right;\n",
       "    }\n",
       "</style>\n",
       "<table border=\"1\" class=\"dataframe\">\n",
       "  <thead>\n",
       "    <tr style=\"text-align: right;\">\n",
       "      <th></th>\n",
       "      <th>Time</th>\n",
       "      <th>V1</th>\n",
       "      <th>V2</th>\n",
       "      <th>V3</th>\n",
       "      <th>V4</th>\n",
       "      <th>V5</th>\n",
       "      <th>V6</th>\n",
       "      <th>V7</th>\n",
       "      <th>V8</th>\n",
       "      <th>V9</th>\n",
       "      <th>...</th>\n",
       "      <th>V21</th>\n",
       "      <th>V22</th>\n",
       "      <th>V23</th>\n",
       "      <th>V24</th>\n",
       "      <th>V25</th>\n",
       "      <th>V26</th>\n",
       "      <th>V27</th>\n",
       "      <th>V28</th>\n",
       "      <th>Amount</th>\n",
       "      <th>Class</th>\n",
       "    </tr>\n",
       "  </thead>\n",
       "  <tbody>\n",
       "    <tr>\n",
       "      <th>count</th>\n",
       "      <td>284807.000000</td>\n",
       "      <td>2.848070e+05</td>\n",
       "      <td>2.848070e+05</td>\n",
       "      <td>2.848070e+05</td>\n",
       "      <td>2.848070e+05</td>\n",
       "      <td>2.848070e+05</td>\n",
       "      <td>2.848070e+05</td>\n",
       "      <td>2.848070e+05</td>\n",
       "      <td>2.848070e+05</td>\n",
       "      <td>2.848070e+05</td>\n",
       "      <td>...</td>\n",
       "      <td>2.848070e+05</td>\n",
       "      <td>2.848070e+05</td>\n",
       "      <td>2.848070e+05</td>\n",
       "      <td>2.848070e+05</td>\n",
       "      <td>2.848070e+05</td>\n",
       "      <td>2.848070e+05</td>\n",
       "      <td>2.848070e+05</td>\n",
       "      <td>2.848070e+05</td>\n",
       "      <td>284807.000000</td>\n",
       "      <td>284807.000000</td>\n",
       "    </tr>\n",
       "    <tr>\n",
       "      <th>mean</th>\n",
       "      <td>94813.859575</td>\n",
       "      <td>1.168375e-15</td>\n",
       "      <td>3.416908e-16</td>\n",
       "      <td>-1.379537e-15</td>\n",
       "      <td>2.074095e-15</td>\n",
       "      <td>9.604066e-16</td>\n",
       "      <td>1.487313e-15</td>\n",
       "      <td>-5.556467e-16</td>\n",
       "      <td>1.213481e-16</td>\n",
       "      <td>-2.406331e-15</td>\n",
       "      <td>...</td>\n",
       "      <td>1.654067e-16</td>\n",
       "      <td>-3.568593e-16</td>\n",
       "      <td>2.578648e-16</td>\n",
       "      <td>4.473266e-15</td>\n",
       "      <td>5.340915e-16</td>\n",
       "      <td>1.683437e-15</td>\n",
       "      <td>-3.660091e-16</td>\n",
       "      <td>-1.227390e-16</td>\n",
       "      <td>88.349619</td>\n",
       "      <td>0.001727</td>\n",
       "    </tr>\n",
       "    <tr>\n",
       "      <th>std</th>\n",
       "      <td>47488.145955</td>\n",
       "      <td>1.958696e+00</td>\n",
       "      <td>1.651309e+00</td>\n",
       "      <td>1.516255e+00</td>\n",
       "      <td>1.415869e+00</td>\n",
       "      <td>1.380247e+00</td>\n",
       "      <td>1.332271e+00</td>\n",
       "      <td>1.237094e+00</td>\n",
       "      <td>1.194353e+00</td>\n",
       "      <td>1.098632e+00</td>\n",
       "      <td>...</td>\n",
       "      <td>7.345240e-01</td>\n",
       "      <td>7.257016e-01</td>\n",
       "      <td>6.244603e-01</td>\n",
       "      <td>6.056471e-01</td>\n",
       "      <td>5.212781e-01</td>\n",
       "      <td>4.822270e-01</td>\n",
       "      <td>4.036325e-01</td>\n",
       "      <td>3.300833e-01</td>\n",
       "      <td>250.120109</td>\n",
       "      <td>0.041527</td>\n",
       "    </tr>\n",
       "    <tr>\n",
       "      <th>min</th>\n",
       "      <td>0.000000</td>\n",
       "      <td>-5.640751e+01</td>\n",
       "      <td>-7.271573e+01</td>\n",
       "      <td>-4.832559e+01</td>\n",
       "      <td>-5.683171e+00</td>\n",
       "      <td>-1.137433e+02</td>\n",
       "      <td>-2.616051e+01</td>\n",
       "      <td>-4.355724e+01</td>\n",
       "      <td>-7.321672e+01</td>\n",
       "      <td>-1.343407e+01</td>\n",
       "      <td>...</td>\n",
       "      <td>-3.483038e+01</td>\n",
       "      <td>-1.093314e+01</td>\n",
       "      <td>-4.480774e+01</td>\n",
       "      <td>-2.836627e+00</td>\n",
       "      <td>-1.029540e+01</td>\n",
       "      <td>-2.604551e+00</td>\n",
       "      <td>-2.256568e+01</td>\n",
       "      <td>-1.543008e+01</td>\n",
       "      <td>0.000000</td>\n",
       "      <td>0.000000</td>\n",
       "    </tr>\n",
       "    <tr>\n",
       "      <th>25%</th>\n",
       "      <td>54201.500000</td>\n",
       "      <td>-9.203734e-01</td>\n",
       "      <td>-5.985499e-01</td>\n",
       "      <td>-8.903648e-01</td>\n",
       "      <td>-8.486401e-01</td>\n",
       "      <td>-6.915971e-01</td>\n",
       "      <td>-7.682956e-01</td>\n",
       "      <td>-5.540759e-01</td>\n",
       "      <td>-2.086297e-01</td>\n",
       "      <td>-6.430976e-01</td>\n",
       "      <td>...</td>\n",
       "      <td>-2.283949e-01</td>\n",
       "      <td>-5.423504e-01</td>\n",
       "      <td>-1.618463e-01</td>\n",
       "      <td>-3.545861e-01</td>\n",
       "      <td>-3.171451e-01</td>\n",
       "      <td>-3.269839e-01</td>\n",
       "      <td>-7.083953e-02</td>\n",
       "      <td>-5.295979e-02</td>\n",
       "      <td>5.600000</td>\n",
       "      <td>0.000000</td>\n",
       "    </tr>\n",
       "    <tr>\n",
       "      <th>50%</th>\n",
       "      <td>84692.000000</td>\n",
       "      <td>1.810880e-02</td>\n",
       "      <td>6.548556e-02</td>\n",
       "      <td>1.798463e-01</td>\n",
       "      <td>-1.984653e-02</td>\n",
       "      <td>-5.433583e-02</td>\n",
       "      <td>-2.741871e-01</td>\n",
       "      <td>4.010308e-02</td>\n",
       "      <td>2.235804e-02</td>\n",
       "      <td>-5.142873e-02</td>\n",
       "      <td>...</td>\n",
       "      <td>-2.945017e-02</td>\n",
       "      <td>6.781943e-03</td>\n",
       "      <td>-1.119293e-02</td>\n",
       "      <td>4.097606e-02</td>\n",
       "      <td>1.659350e-02</td>\n",
       "      <td>-5.213911e-02</td>\n",
       "      <td>1.342146e-03</td>\n",
       "      <td>1.124383e-02</td>\n",
       "      <td>22.000000</td>\n",
       "      <td>0.000000</td>\n",
       "    </tr>\n",
       "    <tr>\n",
       "      <th>75%</th>\n",
       "      <td>139320.500000</td>\n",
       "      <td>1.315642e+00</td>\n",
       "      <td>8.037239e-01</td>\n",
       "      <td>1.027196e+00</td>\n",
       "      <td>7.433413e-01</td>\n",
       "      <td>6.119264e-01</td>\n",
       "      <td>3.985649e-01</td>\n",
       "      <td>5.704361e-01</td>\n",
       "      <td>3.273459e-01</td>\n",
       "      <td>5.971390e-01</td>\n",
       "      <td>...</td>\n",
       "      <td>1.863772e-01</td>\n",
       "      <td>5.285536e-01</td>\n",
       "      <td>1.476421e-01</td>\n",
       "      <td>4.395266e-01</td>\n",
       "      <td>3.507156e-01</td>\n",
       "      <td>2.409522e-01</td>\n",
       "      <td>9.104512e-02</td>\n",
       "      <td>7.827995e-02</td>\n",
       "      <td>77.165000</td>\n",
       "      <td>0.000000</td>\n",
       "    </tr>\n",
       "    <tr>\n",
       "      <th>max</th>\n",
       "      <td>172792.000000</td>\n",
       "      <td>2.454930e+00</td>\n",
       "      <td>2.205773e+01</td>\n",
       "      <td>9.382558e+00</td>\n",
       "      <td>1.687534e+01</td>\n",
       "      <td>3.480167e+01</td>\n",
       "      <td>7.330163e+01</td>\n",
       "      <td>1.205895e+02</td>\n",
       "      <td>2.000721e+01</td>\n",
       "      <td>1.559499e+01</td>\n",
       "      <td>...</td>\n",
       "      <td>2.720284e+01</td>\n",
       "      <td>1.050309e+01</td>\n",
       "      <td>2.252841e+01</td>\n",
       "      <td>4.584549e+00</td>\n",
       "      <td>7.519589e+00</td>\n",
       "      <td>3.517346e+00</td>\n",
       "      <td>3.161220e+01</td>\n",
       "      <td>3.384781e+01</td>\n",
       "      <td>25691.160000</td>\n",
       "      <td>1.000000</td>\n",
       "    </tr>\n",
       "  </tbody>\n",
       "</table>\n",
       "<p>8 rows × 31 columns</p>\n",
       "</div>"
      ],
      "text/plain": [
       "                Time            V1            V2            V3            V4  \\\n",
       "count  284807.000000  2.848070e+05  2.848070e+05  2.848070e+05  2.848070e+05   \n",
       "mean    94813.859575  1.168375e-15  3.416908e-16 -1.379537e-15  2.074095e-15   \n",
       "std     47488.145955  1.958696e+00  1.651309e+00  1.516255e+00  1.415869e+00   \n",
       "min         0.000000 -5.640751e+01 -7.271573e+01 -4.832559e+01 -5.683171e+00   \n",
       "25%     54201.500000 -9.203734e-01 -5.985499e-01 -8.903648e-01 -8.486401e-01   \n",
       "50%     84692.000000  1.810880e-02  6.548556e-02  1.798463e-01 -1.984653e-02   \n",
       "75%    139320.500000  1.315642e+00  8.037239e-01  1.027196e+00  7.433413e-01   \n",
       "max    172792.000000  2.454930e+00  2.205773e+01  9.382558e+00  1.687534e+01   \n",
       "\n",
       "                 V5            V6            V7            V8            V9  \\\n",
       "count  2.848070e+05  2.848070e+05  2.848070e+05  2.848070e+05  2.848070e+05   \n",
       "mean   9.604066e-16  1.487313e-15 -5.556467e-16  1.213481e-16 -2.406331e-15   \n",
       "std    1.380247e+00  1.332271e+00  1.237094e+00  1.194353e+00  1.098632e+00   \n",
       "min   -1.137433e+02 -2.616051e+01 -4.355724e+01 -7.321672e+01 -1.343407e+01   \n",
       "25%   -6.915971e-01 -7.682956e-01 -5.540759e-01 -2.086297e-01 -6.430976e-01   \n",
       "50%   -5.433583e-02 -2.741871e-01  4.010308e-02  2.235804e-02 -5.142873e-02   \n",
       "75%    6.119264e-01  3.985649e-01  5.704361e-01  3.273459e-01  5.971390e-01   \n",
       "max    3.480167e+01  7.330163e+01  1.205895e+02  2.000721e+01  1.559499e+01   \n",
       "\n",
       "       ...           V21           V22           V23           V24  \\\n",
       "count  ...  2.848070e+05  2.848070e+05  2.848070e+05  2.848070e+05   \n",
       "mean   ...  1.654067e-16 -3.568593e-16  2.578648e-16  4.473266e-15   \n",
       "std    ...  7.345240e-01  7.257016e-01  6.244603e-01  6.056471e-01   \n",
       "min    ... -3.483038e+01 -1.093314e+01 -4.480774e+01 -2.836627e+00   \n",
       "25%    ... -2.283949e-01 -5.423504e-01 -1.618463e-01 -3.545861e-01   \n",
       "50%    ... -2.945017e-02  6.781943e-03 -1.119293e-02  4.097606e-02   \n",
       "75%    ...  1.863772e-01  5.285536e-01  1.476421e-01  4.395266e-01   \n",
       "max    ...  2.720284e+01  1.050309e+01  2.252841e+01  4.584549e+00   \n",
       "\n",
       "                V25           V26           V27           V28         Amount  \\\n",
       "count  2.848070e+05  2.848070e+05  2.848070e+05  2.848070e+05  284807.000000   \n",
       "mean   5.340915e-16  1.683437e-15 -3.660091e-16 -1.227390e-16      88.349619   \n",
       "std    5.212781e-01  4.822270e-01  4.036325e-01  3.300833e-01     250.120109   \n",
       "min   -1.029540e+01 -2.604551e+00 -2.256568e+01 -1.543008e+01       0.000000   \n",
       "25%   -3.171451e-01 -3.269839e-01 -7.083953e-02 -5.295979e-02       5.600000   \n",
       "50%    1.659350e-02 -5.213911e-02  1.342146e-03  1.124383e-02      22.000000   \n",
       "75%    3.507156e-01  2.409522e-01  9.104512e-02  7.827995e-02      77.165000   \n",
       "max    7.519589e+00  3.517346e+00  3.161220e+01  3.384781e+01   25691.160000   \n",
       "\n",
       "               Class  \n",
       "count  284807.000000  \n",
       "mean        0.001727  \n",
       "std         0.041527  \n",
       "min         0.000000  \n",
       "25%         0.000000  \n",
       "50%         0.000000  \n",
       "75%         0.000000  \n",
       "max         1.000000  \n",
       "\n",
       "[8 rows x 31 columns]"
      ]
     },
     "execution_count": 4,
     "metadata": {},
     "output_type": "execute_result"
    }
   ],
   "source": [
    "data = credit\n",
    "data.describe()"
   ]
  },
  {
   "cell_type": "markdown",
   "id": "8fde1332",
   "metadata": {
    "pycharm": {
     "name": "#%% md\n"
    }
   },
   "source": [
    "# Data pre-processing (Scaling)"
   ]
  },
  {
   "cell_type": "code",
   "execution_count": 5,
   "id": "c82b1aa2",
   "metadata": {
    "pycharm": {
     "name": "#%%\n"
    }
   },
   "outputs": [],
   "source": [
    "from sklearn.preprocessing import StandardScaler, RobustScaler\n",
    "\n",
    "# RobustScaler is less prone to outliers.\n",
    "std_scaler = StandardScaler()\n",
    "rob_scaler = RobustScaler()\n",
    "\n",
    "data['scaled_amount'] = rob_scaler.fit_transform(data['Amount'].values.reshape(-1,1))\n",
    "data['scaled_time'] = rob_scaler.fit_transform(data['Time'].values.reshape(-1,1))\n",
    "\n",
    "data.drop(['Time','Amount'], axis=1, inplace=True)"
   ]
  },
  {
   "cell_type": "markdown",
   "id": "64d09e24",
   "metadata": {
    "pycharm": {
     "name": "#%% md\n"
    }
   },
   "source": [
    "# Estimate the normal distribution parameters"
   ]
  },
  {
   "cell_type": "code",
   "execution_count": 6,
   "id": "9a679123",
   "metadata": {
    "pycharm": {
     "name": "#%%\n"
    }
   },
   "outputs": [],
   "source": [
    "class EstimateNormalDistribution:\n",
    "    def __init__(self, input_column):\n",
    "        self.input_column = input_column\n",
    "        \n",
    "    def __mean(self):\n",
    "        return np.mean(self.input_column)\n",
    "    \n",
    "    def __std(self):\n",
    "        return np.std(self.input_column)\n",
    "    \n",
    "    def __var(self):\n",
    "        return np.var(self.input_column)\n",
    "    \n",
    "    def __median(self):\n",
    "        return np.median(self.input_column)\n",
    "    \n",
    "    def _parameter(self):\n",
    "        self.m = self.__mean()\n",
    "        self.median = self.__median()\n",
    "        self.s = self.__std()\n",
    "        self.v = self.__var()\n",
    "        print('      Mean              :  ', self.m)\n",
    "        print('      Median            :  ', self.median)\n",
    "        print('      Variance          :  ', self.v)\n",
    "        print('      Standard Deviation:  ', self.s)\n"
   ]
  },
  {
   "cell_type": "code",
   "execution_count": 7,
   "id": "1035e3be",
   "metadata": {
    "scrolled": false,
    "pycharm": {
     "name": "#%%\n"
    }
   },
   "outputs": [
    {
     "name": "stdout",
     "output_type": "stream",
     "text": [
      "Time\n",
      "      Mean              :   94813.85957508067\n",
      "      Median            :   84692.0\n",
      "      Variance          :   2255116088.1243014\n",
      "      Standard Deviation:   47488.062585499334\n",
      "V1\n",
      "      Mean              :   1.1683749838001528e-15\n",
      "      Median            :   0.0181087991615309\n",
      "      Variance          :   3.8364757815610053\n",
      "      Standard Deviation:   1.9586923652174186\n",
      "V2\n",
      "      Mean              :   3.416908049651284e-16\n",
      "      Median            :   0.0654855563960555\n",
      "      Variance          :   2.7268104503811483\n",
      "      Standard Deviation:   1.6513056804786777\n",
      "V3\n",
      "      Mean              :   -1.379536707896593e-15\n",
      "      Median            :   0.179846343563544\n",
      "      Variance          :   2.299021168490918\n",
      "      Standard Deviation:   1.5162523432763155\n",
      "V4\n",
      "      Mean              :   2.0740951198584196e-15\n",
      "      Median            :   -0.0198465294811989\n",
      "      Variance          :   2.0046767827603227\n",
      "      Standard Deviation:   1.4158660892755086\n",
      "V5\n",
      "      Mean              :   9.604066317127324e-16\n",
      "      Median            :   -0.0543358267364858\n",
      "      Variance          :   1.9050743577797935\n",
      "      Standard Deviation:   1.38024431090289\n",
      "V6\n",
      "      Mean              :   1.4873130132010145e-15\n",
      "      Median            :   -0.274187076506651\n",
      "      Variance          :   1.7749400245019\n",
      "      Standard Deviation:   1.3322687508539335\n",
      "V7\n",
      "      Mean              :   -5.556467295694611e-16\n",
      "      Median            :   0.0401030827945351\n",
      "      Variance          :   1.5303951971990992\n",
      "      Standard Deviation:   1.2370914263703792\n",
      "V8\n",
      "      Mean              :   1.2134813634275587e-16\n",
      "      Median            :   0.0223580364366631\n",
      "      Variance          :   1.4264738475336076\n",
      "      Standard Deviation:   1.1943508058914716\n",
      "V9\n",
      "      Mean              :   -2.4063305498905906e-15\n",
      "      Median            :   -0.051428731550349\n",
      "      Variance          :   1.206988229542206\n",
      "      Standard Deviation:   1.0986301604917854\n",
      "V10\n",
      "      Mean              :   2.2390527426993533e-15\n",
      "      Median            :   -0.0929173835961975\n",
      "      Variance          :   1.1855896488198128\n",
      "      Standard Deviation:   1.0888478538435995\n",
      "V11\n",
      "      Mean              :   1.673326932726423e-15\n",
      "      Median            :   -0.032757354499007\n",
      "      Variance          :   1.0418514268309738\n",
      "      Standard Deviation:   1.0207112357718875\n",
      "V12\n",
      "      Mean              :   -1.2470117695222676e-15\n",
      "      Median            :   0.140032588291332\n",
      "      Variance          :   0.9983999112951588\n",
      "      Standard Deviation:   0.9991996353557976\n",
      "V13\n",
      "      Mean              :   8.190001274383203e-16\n",
      "      Median            :   -0.0135680567852071\n",
      "      Variance          :   0.9905673151089174\n",
      "      Standard Deviation:   0.9952724828452344\n",
      "V14\n",
      "      Mean              :   1.2072942051600827e-15\n",
      "      Median            :   0.0506013193100486\n",
      "      Variance          :   0.9189023195064124\n",
      "      Standard Deviation:   0.9585939283692613\n",
      "V15\n",
      "      Mean              :   4.887455859804944e-15\n",
      "      Median            :   0.0480715497626106\n",
      "      Variance          :   0.8378004594573181\n",
      "      Standard Deviation:   0.9153144047032791\n",
      "V16\n",
      "      Mean              :   1.4377159541859243e-15\n",
      "      Median            :   0.0664133205843014\n",
      "      Variance          :   0.7678164267286077\n",
      "      Standard Deviation:   0.876251349059508\n",
      "V17\n",
      "      Mean              :   -3.7721706856547467e-16\n",
      "      Median            :   -0.0656757538072252\n",
      "      Variance          :   0.7213709148809011\n",
      "      Standard Deviation:   0.8493355725983112\n",
      "V18\n",
      "      Mean              :   9.564149167014576e-16\n",
      "      Median            :   -0.0036363123546992\n",
      "      Variance          :   0.7025368914993104\n",
      "      Standard Deviation:   0.8381747380464949\n",
      "V19\n",
      "      Mean              :   1.0399166050935636e-15\n",
      "      Median            :   0.0037348229952574\n",
      "      Variance          :   0.6626596101863265\n",
      "      Standard Deviation:   0.814039071658312\n",
      "V20\n",
      "      Mean              :   6.406203628719748e-16\n",
      "      Median            :   -0.0624810924603664\n",
      "      Variance          :   0.5943233072317989\n",
      "      Standard Deviation:   0.7709236714693608\n",
      "V21\n",
      "      Mean              :   1.654066907797022e-16\n",
      "      Median            :   -0.0294501676953819\n",
      "      Variance          :   0.539523633333278\n",
      "      Standard Deviation:   0.7345227248583109\n",
      "V22\n",
      "      Mean              :   -3.568593220079729e-16\n",
      "      Median            :   0.0067819425282695\n",
      "      Variance          :   0.5266409057048467\n",
      "      Standard Deviation:   0.7257002864164012\n",
      "V23\n",
      "      Mean              :   2.5786478972835623e-16\n",
      "      Median            :   -0.0111929302967212\n",
      "      Variance          :   0.3899492915994543\n",
      "      Standard Deviation:   0.624459199307252\n",
      "V24\n",
      "      Mean              :   4.473265530947536e-15\n",
      "      Median            :   0.0409760560572798\n",
      "      Variance          :   0.36680708284855196\n",
      "      Standard Deviation:   0.60564600456748\n",
      "V25\n",
      "      Mean              :   5.340914685085768e-16\n",
      "      Median            :   0.0165935016367397\n",
      "      Variance          :   0.2717298727392889\n",
      "      Standard Deviation:   0.5212771553974803\n",
      "V26\n",
      "      Mean              :   1.6834371984034178e-15\n",
      "      Median            :   -0.0521391080182019\n",
      "      Variance          :   0.23254207582578362\n",
      "      Standard Deviation:   0.48222616667470836\n",
      "V27\n",
      "      Mean              :   -3.6600908126037946e-16\n",
      "      Median            :   0.0013421459786502\n",
      "      Variance          :   0.16291861895803414\n",
      "      Standard Deviation:   0.4036317863573608\n",
      "V28\n",
      "      Mean              :   -1.2273899954199695e-16\n",
      "      Median            :   0.011243831564982\n",
      "      Variance          :   0.10895457872151121\n",
      "      Standard Deviation:   0.3300826846738726\n",
      "Amount\n",
      "      Mean              :   88.34961925093133\n",
      "      Median            :   22.0\n",
      "      Variance          :   62559.849388558934\n",
      "      Standard Deviation:   250.11967013523534\n"
     ]
    }
   ],
   "source": [
    "print_list = []\n",
    "for i in X:\n",
    "    my_col = EstimateNormalDistribution(X[i])\n",
    "    print(i)\n",
    "    print_list.append(my_col._parameter())"
   ]
  },
  {
   "cell_type": "markdown",
   "id": "31aeb2e3",
   "metadata": {
    "pycharm": {
     "name": "#%% md\n"
    }
   },
   "source": [
    "# data cleaning"
   ]
  },
  {
   "cell_type": "markdown",
   "id": "d7eb9657",
   "metadata": {
    "pycharm": {
     "name": "#%% md\n"
    }
   },
   "source": [
    "## missing values"
   ]
  },
  {
   "cell_type": "code",
   "execution_count": 8,
   "id": "ae598850",
   "metadata": {
    "pycharm": {
     "name": "#%%\n"
    }
   },
   "outputs": [
    {
     "data": {
      "text/plain": [
       "0"
      ]
     },
     "execution_count": 8,
     "metadata": {},
     "output_type": "execute_result"
    }
   ],
   "source": [
    "data.isnull().sum().max()\n"
   ]
  },
  {
   "cell_type": "markdown",
   "id": "316578a3",
   "metadata": {
    "pycharm": {
     "name": "#%% md\n"
    }
   },
   "source": [
    "# Apply data reduction techniques(feature Subset Selection and correlation analysis)"
   ]
  },
  {
   "cell_type": "code",
   "execution_count": 9,
   "id": "be279018",
   "metadata": {
    "pycharm": {
     "name": "#%%\n"
    }
   },
   "outputs": [
    {
     "name": "stdout",
     "output_type": "stream",
     "text": [
      "Fraud (492, 31) No Fraud (284315, 31)\n"
     ]
    }
   ],
   "source": [
    "print('Fraud', data.loc[data['Class']==1].shape, 'No Fraud', data.loc[data['Class']==0].shape)"
   ]
  },
  {
   "cell_type": "code",
   "execution_count": 10,
   "id": "cd19d3d0",
   "metadata": {
    "pycharm": {
     "name": "#%%\n"
    }
   },
   "outputs": [
    {
     "data": {
      "text/html": [
       "<div>\n",
       "<style scoped>\n",
       "    .dataframe tbody tr th:only-of-type {\n",
       "        vertical-align: middle;\n",
       "    }\n",
       "\n",
       "    .dataframe tbody tr th {\n",
       "        vertical-align: top;\n",
       "    }\n",
       "\n",
       "    .dataframe thead th {\n",
       "        text-align: right;\n",
       "    }\n",
       "</style>\n",
       "<table border=\"1\" class=\"dataframe\">\n",
       "  <thead>\n",
       "    <tr style=\"text-align: right;\">\n",
       "      <th></th>\n",
       "      <th>V1</th>\n",
       "      <th>V2</th>\n",
       "      <th>V3</th>\n",
       "      <th>V4</th>\n",
       "      <th>V5</th>\n",
       "      <th>V6</th>\n",
       "      <th>V7</th>\n",
       "      <th>V8</th>\n",
       "      <th>V9</th>\n",
       "      <th>V10</th>\n",
       "      <th>...</th>\n",
       "      <th>V22</th>\n",
       "      <th>V23</th>\n",
       "      <th>V24</th>\n",
       "      <th>V25</th>\n",
       "      <th>V26</th>\n",
       "      <th>V27</th>\n",
       "      <th>V28</th>\n",
       "      <th>Class</th>\n",
       "      <th>scaled_amount</th>\n",
       "      <th>scaled_time</th>\n",
       "    </tr>\n",
       "  </thead>\n",
       "  <tbody>\n",
       "    <tr>\n",
       "      <th>121</th>\n",
       "      <td>-0.427191</td>\n",
       "      <td>0.745708</td>\n",
       "      <td>1.761811</td>\n",
       "      <td>-0.165130</td>\n",
       "      <td>0.058298</td>\n",
       "      <td>-0.213413</td>\n",
       "      <td>0.647323</td>\n",
       "      <td>0.073464</td>\n",
       "      <td>-0.291864</td>\n",
       "      <td>0.064800</td>\n",
       "      <td>...</td>\n",
       "      <td>-0.432070</td>\n",
       "      <td>0.013164</td>\n",
       "      <td>0.161606</td>\n",
       "      <td>-0.401310</td>\n",
       "      <td>0.047423</td>\n",
       "      <td>0.102549</td>\n",
       "      <td>-0.116571</td>\n",
       "      <td>0</td>\n",
       "      <td>-0.179976</td>\n",
       "      <td>-0.994079</td>\n",
       "    </tr>\n",
       "    <tr>\n",
       "      <th>248296</th>\n",
       "      <td>-0.613696</td>\n",
       "      <td>3.698772</td>\n",
       "      <td>-5.534941</td>\n",
       "      <td>5.620486</td>\n",
       "      <td>1.649263</td>\n",
       "      <td>-2.335145</td>\n",
       "      <td>-0.907188</td>\n",
       "      <td>0.706362</td>\n",
       "      <td>-3.747646</td>\n",
       "      <td>-4.230984</td>\n",
       "      <td>...</td>\n",
       "      <td>-0.471379</td>\n",
       "      <td>-0.075890</td>\n",
       "      <td>-0.667909</td>\n",
       "      <td>-0.642848</td>\n",
       "      <td>0.070600</td>\n",
       "      <td>0.488410</td>\n",
       "      <td>0.292345</td>\n",
       "      <td>1</td>\n",
       "      <td>-0.307413</td>\n",
       "      <td>0.812780</td>\n",
       "    </tr>\n",
       "    <tr>\n",
       "      <th>239</th>\n",
       "      <td>1.171439</td>\n",
       "      <td>0.474974</td>\n",
       "      <td>0.011761</td>\n",
       "      <td>1.264303</td>\n",
       "      <td>0.116234</td>\n",
       "      <td>-0.865986</td>\n",
       "      <td>0.554393</td>\n",
       "      <td>-0.276375</td>\n",
       "      <td>-0.471302</td>\n",
       "      <td>0.029104</td>\n",
       "      <td>...</td>\n",
       "      <td>0.278843</td>\n",
       "      <td>-0.097491</td>\n",
       "      <td>0.426278</td>\n",
       "      <td>0.744938</td>\n",
       "      <td>-0.274728</td>\n",
       "      <td>0.008472</td>\n",
       "      <td>0.015492</td>\n",
       "      <td>0</td>\n",
       "      <td>-0.027947</td>\n",
       "      <td>-0.993104</td>\n",
       "    </tr>\n",
       "    <tr>\n",
       "      <th>239501</th>\n",
       "      <td>-6.682832</td>\n",
       "      <td>-2.714268</td>\n",
       "      <td>-5.774530</td>\n",
       "      <td>1.449792</td>\n",
       "      <td>-0.661836</td>\n",
       "      <td>-1.148650</td>\n",
       "      <td>0.849686</td>\n",
       "      <td>0.433427</td>\n",
       "      <td>-1.315646</td>\n",
       "      <td>-2.796332</td>\n",
       "      <td>...</td>\n",
       "      <td>1.187013</td>\n",
       "      <td>0.335821</td>\n",
       "      <td>0.215683</td>\n",
       "      <td>0.803110</td>\n",
       "      <td>0.044033</td>\n",
       "      <td>-0.054988</td>\n",
       "      <td>0.082337</td>\n",
       "      <td>1</td>\n",
       "      <td>3.007895</td>\n",
       "      <td>0.768888</td>\n",
       "    </tr>\n",
       "    <tr>\n",
       "      <th>143336</th>\n",
       "      <td>-6.713407</td>\n",
       "      <td>3.921104</td>\n",
       "      <td>-9.746678</td>\n",
       "      <td>5.148263</td>\n",
       "      <td>-5.151563</td>\n",
       "      <td>-2.099389</td>\n",
       "      <td>-5.937767</td>\n",
       "      <td>3.578780</td>\n",
       "      <td>-4.684952</td>\n",
       "      <td>-8.537758</td>\n",
       "      <td>...</td>\n",
       "      <td>-0.451086</td>\n",
       "      <td>0.127214</td>\n",
       "      <td>-0.339450</td>\n",
       "      <td>0.394096</td>\n",
       "      <td>1.075295</td>\n",
       "      <td>1.649906</td>\n",
       "      <td>-0.394905</td>\n",
       "      <td>1</td>\n",
       "      <td>3.226717</td>\n",
       "      <td>0.006967</td>\n",
       "    </tr>\n",
       "  </tbody>\n",
       "</table>\n",
       "<p>5 rows × 31 columns</p>\n",
       "</div>"
      ],
      "text/plain": [
       "              V1        V2        V3        V4        V5        V6        V7  \\\n",
       "121    -0.427191  0.745708  1.761811 -0.165130  0.058298 -0.213413  0.647323   \n",
       "248296 -0.613696  3.698772 -5.534941  5.620486  1.649263 -2.335145 -0.907188   \n",
       "239     1.171439  0.474974  0.011761  1.264303  0.116234 -0.865986  0.554393   \n",
       "239501 -6.682832 -2.714268 -5.774530  1.449792 -0.661836 -1.148650  0.849686   \n",
       "143336 -6.713407  3.921104 -9.746678  5.148263 -5.151563 -2.099389 -5.937767   \n",
       "\n",
       "              V8        V9       V10  ...       V22       V23       V24  \\\n",
       "121     0.073464 -0.291864  0.064800  ... -0.432070  0.013164  0.161606   \n",
       "248296  0.706362 -3.747646 -4.230984  ... -0.471379 -0.075890 -0.667909   \n",
       "239    -0.276375 -0.471302  0.029104  ...  0.278843 -0.097491  0.426278   \n",
       "239501  0.433427 -1.315646 -2.796332  ...  1.187013  0.335821  0.215683   \n",
       "143336  3.578780 -4.684952 -8.537758  ... -0.451086  0.127214 -0.339450   \n",
       "\n",
       "             V25       V26       V27       V28  Class  scaled_amount  \\\n",
       "121    -0.401310  0.047423  0.102549 -0.116571      0      -0.179976   \n",
       "248296 -0.642848  0.070600  0.488410  0.292345      1      -0.307413   \n",
       "239     0.744938 -0.274728  0.008472  0.015492      0      -0.027947   \n",
       "239501  0.803110  0.044033 -0.054988  0.082337      1       3.007895   \n",
       "143336  0.394096  1.075295  1.649906 -0.394905      1       3.226717   \n",
       "\n",
       "        scaled_time  \n",
       "121       -0.994079  \n",
       "248296     0.812780  \n",
       "239       -0.993104  \n",
       "239501     0.768888  \n",
       "143336     0.006967  \n",
       "\n",
       "[5 rows x 31 columns]"
      ]
     },
     "execution_count": 10,
     "metadata": {},
     "output_type": "execute_result"
    }
   ],
   "source": [
    "data_df = data.sample(frac=1)\n",
    "fraud_df = data.loc[data['Class'] == 1]\n",
    "no_fraud_df = data.loc[data['Class'] == 0][:492]\n",
    "under_sample_data = pd.concat([fraud_df, no_fraud_df])\n",
    "\n",
    "new_data = under_sample_data.sample(frac=1, random_state=42)\n",
    "new_data.head()"
   ]
  },
  {
   "cell_type": "code",
   "execution_count": 11,
   "id": "40c6f620",
   "metadata": {
    "pycharm": {
     "name": "#%%\n"
    }
   },
   "outputs": [
    {
     "data": {
      "image/png": "[encoded data removed]",
      "text/plain": [
       "<Figure size 1728x1440 with 4 Axes>"
      ]
     },
     "metadata": {
      "needs_background": "light"
     },
     "output_type": "display_data"
    }
   ],
   "source": [
    "#correlation\n",
    "\n",
    "f, (ax1, ax2) = plt.subplots(2, 1, figsize=(24,20))\n",
    "\n",
    "data_corr = data.corr()\n",
    "sns.heatmap(data_corr, cmap='coolwarm_r', annot_kws={'size':20}, ax=ax1)\n",
    "ax1.set_title(\"Imbalanced Correlation Matrix \\n (don't use for reference)\", fontsize=14)\n",
    "\n",
    "\n",
    "under_sample_corr = under_sample_data.corr()\n",
    "sns.heatmap(under_sample_corr, cmap='coolwarm_r', annot_kws={'size':20}, ax=ax2)\n",
    "ax2.set_title('SubSample Correlation Matrix \\n (use for reference)', fontsize=14)\n",
    "plt.show()"
   ]
  },
  {
   "cell_type": "markdown",
   "id": "f251215c",
   "metadata": {
    "pycharm": {
     "name": "#%% md\n"
    }
   },
   "source": [
    "# Remove noisy and outlier data"
   ]
  },
  {
   "cell_type": "code",
   "execution_count": 12,
   "id": "bd7fe9b6",
   "metadata": {
    "pycharm": {
     "name": "#%%\n"
    }
   },
   "outputs": [
    {
     "name": "stderr",
     "output_type": "stream",
     "text": [
      "/home/soheil/anaconda3/envs/my_env/lib/python3.9/site-packages/seaborn/distributions.py:2619: FutureWarning: `distplot` is a deprecated function and will be removed in a future version. Please adapt your code to use either `displot` (a figure-level function with similar flexibility) or `histplot` (an axes-level function for histograms).\n",
      "  warnings.warn(msg, FutureWarning)\n",
      "/home/soheil/anaconda3/envs/my_env/lib/python3.9/site-packages/seaborn/distributions.py:2619: FutureWarning: `distplot` is a deprecated function and will be removed in a future version. Please adapt your code to use either `displot` (a figure-level function with similar flexibility) or `histplot` (an axes-level function for histograms).\n",
      "  warnings.warn(msg, FutureWarning)\n",
      "/home/soheil/anaconda3/envs/my_env/lib/python3.9/site-packages/seaborn/distributions.py:2619: FutureWarning: `distplot` is a deprecated function and will be removed in a future version. Please adapt your code to use either `displot` (a figure-level function with similar flexibility) or `histplot` (an axes-level function for histograms).\n",
      "  warnings.warn(msg, FutureWarning)\n"
     ]
    },
    {
     "data": {
      "image/png": "[encoded data removed]",
      "text/plain": [
       "<Figure size 1440x432 with 3 Axes>"
      ]
     },
     "metadata": {
      "needs_background": "light"
     },
     "output_type": "display_data"
    }
   ],
   "source": [
    "from scipy.stats import norm\n",
    "\n",
    "f, (ax1, ax2, ax3) = plt.subplots(1,3, figsize=(20, 6))\n",
    "\n",
    "v14_fraud_dist = under_sample_data['V14'].loc[under_sample_data['Class'] == 1].values\n",
    "sns.distplot(v14_fraud_dist,ax=ax1, fit=norm, color='#FB8861')\n",
    "ax1.set_title('V14 Distribution \\n (Fraud Transactions)', fontsize=14)\n",
    "\n",
    "v12_fraud_dist = under_sample_data['V12'].loc[under_sample_data['Class'] == 1].values\n",
    "sns.distplot(v12_fraud_dist,ax=ax2, fit=norm, color='#56F9BB')\n",
    "ax2.set_title('V12 Distribution \\n (Fraud Transactions)', fontsize=14)\n",
    "\n",
    "\n",
    "v10_fraud_dist = under_sample_data['V10'].loc[under_sample_data['Class'] == 1].values\n",
    "sns.distplot(v10_fraud_dist,ax=ax3, fit=norm, color='#C5B3F9')\n",
    "ax3.set_title('V10 Distribution \\n (Fraud Transactions)', fontsize=14)\n",
    "\n",
    "plt.show()"
   ]
  },
  {
   "cell_type": "code",
   "execution_count": 13,
   "id": "2100b701",
   "metadata": {
    "pycharm": {
     "name": "#%%\n"
    }
   },
   "outputs": [
    {
     "name": "stdout",
     "output_type": "stream",
     "text": [
      "Quartile 25: -9.692722964972385 | Quartile 75: -4.282820849486866\n",
      "iqr: 5.409902115485519\n",
      "Cut Off: 8.114853173228278\n",
      "V14 Lower: -17.807576138200663\n",
      "V14 Upper: 3.8320323237414122\n",
      "Feature V14 Outliers for Fraud Cases: 4\n",
      "V14 outliers:[-19.2143254902614, -18.8220867423816, -18.4937733551053, -18.0499976898594]\n",
      "--------------------------------------------------------------------------------------------------------------------------------------------------------------------------------\n",
      "V12 Lower: -17.3430371579634\n",
      "V12 Upper: 5.776973384895937\n",
      "V12 outliers: [-18.0475965708216, -18.6837146333443, -18.5536970096458, -18.4311310279993]\n",
      "Feature V12 Outliers for Fraud Cases: 4\n",
      "Number of Instances after outliers removal: 976\n",
      "--------------------------------------------------------------------------------------------------------------------------------------------------------------------------------\n",
      "V10 Lower: -14.89885463232024\n",
      "V10 Upper: 4.92033495834214\n",
      "V10 outliers: [-15.1241628144947, -16.6496281595399, -18.2711681738888, -15.2399619587112, -15.2399619587112, -14.9246547735487, -14.9246547735487, -15.5637913387301, -15.5637913387301, -16.7460441053944, -15.3460988468775, -15.1237521803455, -22.1870885620007, -22.1870885620007, -22.1870885620007, -22.1870885620007, -17.1415136412892, -16.3035376590131, -16.2556117491401, -16.6011969664137, -15.2318333653018, -18.9132433348732, -20.9491915543611, -19.836148851696, -23.2282548357516, -24.4031849699728, -24.5882624372475]\n",
      "Feature V10 Outliers for Fraud Cases: 27\n",
      "Number of Instances after outliers removal: 944\n"
     ]
    }
   ],
   "source": [
    "# # -----> V14 Removing Outliers (Highest Negative Correlated with Labels)\n",
    "v14_fraud = under_sample_data['V14'].loc[under_sample_data['Class'] == 1].values\n",
    "q25, q75 = np.percentile(v14_fraud, 25), np.percentile(v14_fraud, 75)\n",
    "print('Quartile 25: {} | Quartile 75: {}'.format(q25, q75))\n",
    "v14_iqr = q75 - q25\n",
    "print('iqr: {}'.format(v14_iqr))\n",
    "\n",
    "v14_cut_off = v14_iqr * 1.5\n",
    "v14_lower, v14_upper = q25 - v14_cut_off, q75 + v14_cut_off\n",
    "print('Cut Off: {}'.format(v14_cut_off))\n",
    "print('V14 Lower: {}'.format(v14_lower))\n",
    "print('V14 Upper: {}'.format(v14_upper))\n",
    "\n",
    "outliers = [x for x in v14_fraud if x < v14_lower or x > v14_upper]\n",
    "print('Feature V14 Outliers for Fraud Cases: {}'.format(len(outliers)))\n",
    "print('V14 outliers:{}'.format(outliers))\n",
    "\n",
    "under_sample_data = under_sample_data.drop(under_sample_data[(under_sample_data['V14'] > v14_upper) | (under_sample_data['V14'] < v14_lower)].index)\n",
    "print('----' * 44)\n",
    "\n",
    "# -----> V12 removing outliers from fraud transactions\n",
    "v12_fraud = under_sample_data['V12'].loc[under_sample_data['Class'] == 1].values\n",
    "q25, q75 = np.percentile(v12_fraud, 25), np.percentile(v12_fraud, 75)\n",
    "v12_iqr = q75 - q25\n",
    "\n",
    "v12_cut_off = v12_iqr * 1.5\n",
    "v12_lower, v12_upper = q25 - v12_cut_off, q75 + v12_cut_off\n",
    "print('V12 Lower: {}'.format(v12_lower))\n",
    "print('V12 Upper: {}'.format(v12_upper))\n",
    "outliers = [x for x in v12_fraud if x < v12_lower or x > v12_upper]\n",
    "print('V12 outliers: {}'.format(outliers))\n",
    "print('Feature V12 Outliers for Fraud Cases: {}'.format(len(outliers)))\n",
    "under_sample_data = under_sample_data.drop(under_sample_data[(under_sample_data['V12'] > v12_upper) | (under_sample_data['V12'] < v12_lower)].index)\n",
    "print('Number of Instances after outliers removal: {}'.format(len(under_sample_data)))\n",
    "print('----' * 44)\n",
    "\n",
    "\n",
    "# Removing outliers V10 Feature\n",
    "v10_fraud = under_sample_data['V10'].loc[under_sample_data['Class'] == 1].values\n",
    "q25, q75 = np.percentile(v10_fraud, 25), np.percentile(v10_fraud, 75)\n",
    "v10_iqr = q75 - q25\n",
    "\n",
    "v10_cut_off = v10_iqr * 1.5\n",
    "v10_lower, v10_upper = q25 - v10_cut_off, q75 + v10_cut_off\n",
    "print('V10 Lower: {}'.format(v10_lower))\n",
    "print('V10 Upper: {}'.format(v10_upper))\n",
    "outliers = [x for x in v10_fraud if x < v10_lower or x > v10_upper]\n",
    "print('V10 outliers: {}'.format(outliers))\n",
    "print('Feature V10 Outliers for Fraud Cases: {}'.format(len(outliers)))\n",
    "under_sample_data = under_sample_data.drop(under_sample_data[(under_sample_data['V10'] > v10_upper) | (under_sample_data['V10'] < v10_lower)].index)\n",
    "print('Number of Instances after outliers removal: {}'.format(len(under_sample_data)))"
   ]
  },
  {
   "cell_type": "markdown",
   "id": "fcfb153a",
   "metadata": {
    "pycharm": {
     "name": "#%% md\n"
    }
   },
   "source": [
    "# Dimention Reduction (PCA) in all column"
   ]
  },
  {
   "cell_type": "code",
   "execution_count": 14,
   "id": "845682e8",
   "metadata": {
    "pycharm": {
     "name": "#%%\n"
    }
   },
   "outputs": [],
   "source": [
    "X_ = under_sample_data.drop('Class', axis=1)\n",
    "y_ = under_sample_data['Class']"
   ]
  },
  {
   "cell_type": "code",
   "execution_count": 15,
   "id": "36517f6b",
   "metadata": {
    "pycharm": {
     "name": "#%%\n"
    }
   },
   "outputs": [
    {
     "data": {
      "text/plain": [
       "array([[ 0.8475034 ,  0.40279467, -1.12597431, ..., -0.33227912,\n",
       "        -0.08274877, -0.08754116],\n",
       "       [-7.60888085, -1.42563632, -0.30367743, ..., -0.26797858,\n",
       "        -0.22737174, -0.21799244],\n",
       "       [-0.52851261,  1.18498788, -1.65037283, ...,  0.44465526,\n",
       "         0.39911676, -0.10846206],\n",
       "       ...,\n",
       "       [-8.29524414, -1.17410143,  0.31861914, ..., -0.38195279,\n",
       "        -0.06914569,  0.03495399],\n",
       "       [-8.17591647, -1.22738381,  0.28668916, ...,  0.03692629,\n",
       "         0.01797912,  0.01521732],\n",
       "       [-8.04998462, -1.05510644,  0.23062124, ..., -0.01249334,\n",
       "        -0.03491588,  0.00902392]])"
      ]
     },
     "execution_count": 15,
     "metadata": {},
     "output_type": "execute_result"
    }
   ],
   "source": [
    "from sklearn.decomposition import PCA\n",
    "pca = PCA()\n",
    "pca.fit_transform(X_)"
   ]
  },
  {
   "cell_type": "code",
   "execution_count": 16,
   "id": "6b956a0d",
   "metadata": {
    "pycharm": {
     "name": "#%%\n"
    }
   },
   "outputs": [
    {
     "data": {
      "text/plain": [
       "[<matplotlib.lines.Line2D at 0x7f71fbdca4f0>]"
      ]
     },
     "execution_count": 16,
     "metadata": {},
     "output_type": "execute_result"
    },
    {
     "data": {
      "image/png": "[encoded data removed]",
      "text/plain": [
       "<Figure size 432x288 with 1 Axes>"
      ]
     },
     "metadata": {
      "needs_background": "light"
     },
     "output_type": "display_data"
    }
   ],
   "source": [
    "plt.plot(pca.explained_variance_)"
   ]
  },
  {
   "cell_type": "code",
   "execution_count": 17,
   "id": "696994ce",
   "metadata": {
    "pycharm": {
     "name": "#%%\n"
    }
   },
   "outputs": [
    {
     "name": "stdout",
     "output_type": "stream",
     "text": [
      "[1.67176566e+02 2.26850873e+01 1.87576587e+01 1.36691381e+01\n",
      " 1.11600051e+01 3.47636941e+00 2.43240692e+00 1.95654015e+00\n",
      " 1.70506567e+00 1.32582672e+00 1.31697228e+00 1.23961260e+00\n",
      " 1.15892432e+00 1.03946138e+00 9.68029459e-01 8.85359823e-01\n",
      " 8.19993877e-01 7.36393384e-01 6.99547169e-01 5.76118670e-01\n",
      " 4.27024856e-01 3.79603294e-01 3.29162560e-01 2.97366921e-01\n",
      " 2.70130871e-01 2.48632487e-01 1.67391371e-01 1.30832715e-01\n",
      " 1.10793859e-01 6.87417968e-02]\n"
     ]
    }
   ],
   "source": [
    "print(pca.explained_variance_)"
   ]
  },
  {
   "cell_type": "code",
   "execution_count": 18,
   "id": "ef410bb6",
   "metadata": {
    "pycharm": {
     "name": "#%%\n"
    }
   },
   "outputs": [],
   "source": [
    "# according to figure choose 5 component \n",
    "pca = PCA(n_components=5)\n",
    "X_PCA = pca.fit_transform(X_)"
   ]
  },
  {
   "cell_type": "code",
   "execution_count": 19,
   "id": "109b87ed",
   "metadata": {
    "pycharm": {
     "name": "#%%\n"
    }
   },
   "outputs": [
    {
     "name": "stdout",
     "output_type": "stream",
     "text": [
      "shape of input dataset (944, 30) \n",
      "shape of input dataset after PCA (944, 5)\n"
     ]
    }
   ],
   "source": [
    "print('shape of input dataset',X_.shape, '\\nshape of input dataset after PCA', X_PCA.shape)"
   ]
  },
  {
   "cell_type": "markdown",
   "id": "14a5a714",
   "metadata": {
    "pycharm": {
     "name": "#%% md\n"
    }
   },
   "source": [
    "# Dimention Reduction (PCA) in V10, V12, V14"
   ]
  },
  {
   "cell_type": "code",
   "execution_count": 20,
   "id": "36bf5c9d",
   "metadata": {
    "pycharm": {
     "name": "#%%\n"
    }
   },
   "outputs": [],
   "source": [
    "X_V10_12_14 = under_sample_data.drop(labels=['V1', 'V2', 'V3', 'V4', 'V5', 'V6', 'V7', 'V8', 'V9', 'V11',\n",
    "                      'V13','V15', 'V16', 'V17', 'V18', 'V19', 'V20', 'V20', 'V21',\n",
    "                      'V22', 'V23', 'V24', 'V25', 'V26', 'V27', 'V28', 'Class'], axis=1)\n",
    "\n",
    "y_V10_12_14 = under_sample_data.Class"
   ]
  },
  {
   "cell_type": "code",
   "execution_count": 21,
   "id": "f9456342",
   "metadata": {
    "pycharm": {
     "name": "#%%\n"
    }
   },
   "outputs": [],
   "source": [
    "pca_V10_12_14 = PCA()\n",
    "X_pca_V10_12_14 = pca_V10_12_14.fit_transform(X_V10_12_14)"
   ]
  },
  {
   "cell_type": "code",
   "execution_count": 22,
   "id": "37134358",
   "metadata": {
    "pycharm": {
     "name": "#%%\n"
    }
   },
   "outputs": [
    {
     "data": {
      "text/plain": [
       "[<matplotlib.lines.Line2D at 0x7f71f6ffd040>]"
      ]
     },
     "execution_count": 22,
     "metadata": {},
     "output_type": "execute_result"
    },
    {
     "data": {
      "image/png": "[encoded data removed]",
      "text/plain": [
       "<Figure size 432x288 with 1 Axes>"
      ]
     },
     "metadata": {
      "needs_background": "light"
     },
     "output_type": "display_data"
    }
   ],
   "source": [
    "plt.plot(pca_V10_12_14.explained_variance_)"
   ]
  },
  {
   "cell_type": "code",
   "execution_count": 23,
   "id": "e61a1c40",
   "metadata": {
    "pycharm": {
     "name": "#%%\n"
    }
   },
   "outputs": [
    {
     "name": "stdout",
     "output_type": "stream",
     "text": [
      "[46.4574365  11.71804068  2.10067667  1.11681657  0.25316437]\n"
     ]
    }
   ],
   "source": [
    "print(pca_V10_12_14.explained_variance_)"
   ]
  },
  {
   "cell_type": "code",
   "execution_count": 24,
   "id": "565d5628",
   "metadata": {
    "pycharm": {
     "name": "#%%\n"
    }
   },
   "outputs": [],
   "source": [
    "# as shown in figure choose 2 component \n",
    "pca_V10_12_14 = PCA(n_components=2)\n",
    "X_PCA_V10_12_14 = pca_V10_12_14.fit_transform(X_V10_12_14)"
   ]
  },
  {
   "cell_type": "code",
   "execution_count": 25,
   "id": "66f5388a",
   "metadata": {
    "pycharm": {
     "name": "#%%\n"
    }
   },
   "outputs": [
    {
     "name": "stdout",
     "output_type": "stream",
     "text": [
      "shape of input dataset (944, 5) \n",
      "shape of input dataset after PCA (944, 2)\n"
     ]
    }
   ],
   "source": [
    "print('shape of input dataset', X_V10_12_14.shape, '\\nshape of input dataset after PCA', X_PCA_V10_12_14.shape)"
   ]
  },
  {
   "cell_type": "markdown",
   "id": "434a501b",
   "metadata": {
    "pycharm": {
     "name": "#%% md\n"
    }
   },
   "source": [
    "# Classification Rules with feature selection and PCA"
   ]
  },
  {
   "cell_type": "markdown",
   "id": "a2707efc",
   "metadata": {
    "pycharm": {
     "name": "#%% md\n"
    }
   },
   "source": [
    "Deterministic (Indirect method):"
   ]
  },
  {
   "cell_type": "code",
   "execution_count": 26,
   "id": "9d33212b",
   "metadata": {
    "pycharm": {
     "name": "#%%\n"
    }
   },
   "outputs": [],
   "source": [
    "X_train_V10_12_14, X_test_V10_12_14, y_train_V10_12_14, y_test_V10_12_14 = train_test_split(X_PCA_V10_12_14,\n",
    "                                                                                            y_, test_size=0.2)"
   ]
  },
  {
   "cell_type": "code",
   "execution_count": 27,
   "id": "b3e9f763",
   "metadata": {
    "pycharm": {
     "name": "#%%\n"
    }
   },
   "outputs": [],
   "source": [
    "from sklearn.tree import DecisionTreeClassifier\n",
    "from sklearn.metrics import classification_report, confusion_matrix\n",
    "from sklearn.tree import export_text\n",
    "from sklearn import tree"
   ]
  },
  {
   "cell_type": "code",
   "execution_count": 28,
   "id": "8784bd16",
   "metadata": {
    "pycharm": {
     "name": "#%%\n"
    }
   },
   "outputs": [
    {
     "data": {
      "text/plain": [
       "DecisionTreeClassifier(criterion='entropy', min_samples_leaf=10,\n",
       "                       min_samples_split=10)"
      ]
     },
     "execution_count": 28,
     "metadata": {},
     "output_type": "execute_result"
    }
   ],
   "source": [
    "# for X_PCA_V10_12_14 data\n",
    "clf_tree = DecisionTreeClassifier(criterion='entropy', splitter='best',min_samples_leaf=10, min_samples_split=10)\n",
    "clf_tree.fit(X_train_V10_12_14, y_train_V10_12_14)"
   ]
  },
  {
   "cell_type": "code",
   "execution_count": 29,
   "id": "ad0a0aa2",
   "metadata": {
    "pycharm": {
     "name": "#%%\n"
    }
   },
   "outputs": [
    {
     "name": "stdout",
     "output_type": "stream",
     "text": [
      "|--- PCA att 1 <= -3.63\n",
      "|   |--- PCA att 1 <= 2.56\n",
      "|   |   |--- PCA att 1 <= -1.27\n",
      "|   |   |   |--- PCA att 1 <= -1.28\n",
      "|   |   |   |   |--- class: 0\n",
      "|   |   |   |--- PCA att 1 >  -1.28\n",
      "|   |   |   |   |--- class: 0\n",
      "|   |   |--- PCA att 1 >  -1.27\n",
      "|   |   |   |--- PCA att 1 <= -4.36\n",
      "|   |   |   |   |--- PCA att 1 <= -0.67\n",
      "|   |   |   |   |   |--- PCA att 1 <= -0.77\n",
      "|   |   |   |   |   |   |--- PCA att 1 <= -5.84\n",
      "|   |   |   |   |   |   |   |--- class: 0\n",
      "|   |   |   |   |   |   |--- PCA att 1 >  -5.84\n",
      "|   |   |   |   |   |   |   |--- PCA att 1 <= -1.17\n",
      "|   |   |   |   |   |   |   |   |--- PCA att 1 <= -1.18\n",
      "|   |   |   |   |   |   |   |   |   |--- PCA att 1 <= -5.23\n",
      "|   |   |   |   |   |   |   |   |   |   |--- class: 0\n",
      "|   |   |   |   |   |   |   |   |   |--- PCA att 1 >  -5.23\n",
      "|   |   |   |   |   |   |   |   |   |   |--- PCA att 1 <= -1.22\n",
      "|   |   |   |   |   |   |   |   |   |   |   |--- truncated branch of depth 3\n",
      "|   |   |   |   |   |   |   |   |   |   |--- PCA att 1 >  -1.22\n",
      "|   |   |   |   |   |   |   |   |   |   |   |--- class: 0\n",
      "|   |   |   |   |   |   |   |   |--- PCA att 1 >  -1.18\n",
      "|   |   |   |   |   |   |   |   |   |--- class: 0\n",
      "|   |   |   |   |   |   |   |--- PCA att 1 >  -1.17\n",
      "|   |   |   |   |   |   |   |   |--- PCA att 1 <= -4.97\n",
      "|   |   |   |   |   |   |   |   |   |--- class: 0\n",
      "|   |   |   |   |   |   |   |   |--- PCA att 1 >  -4.97\n",
      "|   |   |   |   |   |   |   |   |   |--- PCA att 1 <= -4.92\n",
      "|   |   |   |   |   |   |   |   |   |   |--- class: 0\n",
      "|   |   |   |   |   |   |   |   |   |--- PCA att 1 >  -4.92\n",
      "|   |   |   |   |   |   |   |   |   |   |--- class: 0\n",
      "|   |   |   |   |   |--- PCA att 1 >  -0.77\n",
      "|   |   |   |   |   |   |--- class: 0\n",
      "|   |   |   |   |--- PCA att 1 >  -0.67\n",
      "|   |   |   |   |   |--- class: 0\n",
      "|   |   |   |--- PCA att 1 >  -4.36\n",
      "|   |   |   |   |--- PCA att 1 <= -0.38\n",
      "|   |   |   |   |   |--- PCA att 1 <= -1.11\n",
      "|   |   |   |   |   |   |--- class: 0\n",
      "|   |   |   |   |   |--- PCA att 1 >  -1.11\n",
      "|   |   |   |   |   |   |--- class: 0\n",
      "|   |   |   |   |--- PCA att 1 >  -0.38\n",
      "|   |   |   |   |   |--- class: 0\n",
      "|   |--- PCA att 1 >  2.56\n",
      "|   |   |--- PCA att 1 <= -4.56\n",
      "|   |   |   |--- class: 0\n",
      "|   |   |--- PCA att 1 >  -4.56\n",
      "|   |   |   |--- class: 0\n",
      "|--- PCA att 1 >  -3.63\n",
      "|   |--- PCA att 1 <= -0.99\n",
      "|   |   |--- PCA att 1 <= -1.33\n",
      "|   |   |   |--- class: 0\n",
      "|   |   |--- PCA att 1 >  -1.33\n",
      "|   |   |   |--- PCA att 1 <= -3.22\n",
      "|   |   |   |   |--- class: 1\n",
      "|   |   |   |--- PCA att 1 >  -3.22\n",
      "|   |   |   |   |--- class: 1\n",
      "|   |--- PCA att 1 >  -0.99\n",
      "|   |   |--- class: 1\n",
      "\n"
     ]
    }
   ],
   "source": [
    "text_representation = export_text(clf_tree, feature_names=['PCA att 1', 'PCA att 1'])\n",
    "print(text_representation)"
   ]
  },
  {
   "cell_type": "code",
   "execution_count": 30,
   "id": "decbe3b2",
   "metadata": {
    "scrolled": true,
    "pycharm": {
     "name": "#%%\n"
    }
   },
   "outputs": [
    {
     "data": {
      "image/png": "[encoded data removed]",
      "text/plain": [
       "<Figure size 2016x1080 with 1 Axes>"
      ]
     },
     "metadata": {
      "needs_background": "light"
     },
     "output_type": "display_data"
    }
   ],
   "source": [
    "plt.figure(figsize=(28,15))  # set plot size (denoted in inches)\n",
    "tree.plot_tree(clf_tree, fontsize=10)\n",
    "plt.show()"
   ]
  },
  {
   "cell_type": "markdown",
   "id": "e86648ae",
   "metadata": {
    "pycharm": {
     "name": "#%% md\n"
    }
   },
   "source": [
    "# Dimention Reduction (Autoencoder) in all column"
   ]
  },
  {
   "cell_type": "code",
   "execution_count": 31,
   "id": "06f1e051",
   "metadata": {
    "pycharm": {
     "name": "#%%\n"
    }
   },
   "outputs": [
    {
     "name": "stderr",
     "output_type": "stream",
     "text": [
      "2021-12-24 20:20:36.136390: W tensorflow/stream_executor/platform/default/dso_loader.cc:64] Could not load dynamic library 'libcudart.so.11.0'; dlerror: libcudart.so.11.0: cannot open shared object file: No such file or directory\n",
      "2021-12-24 20:20:36.136407: I tensorflow/stream_executor/cuda/cudart_stub.cc:29] Ignore above cudart dlerror if you do not have a GPU set up on your machine.\n"
     ]
    }
   ],
   "source": [
    "import keras\n",
    "import tensorflow as tf"
   ]
  },
  {
   "cell_type": "markdown",
   "id": "09898436",
   "metadata": {
    "pycharm": {
     "name": "#%% md\n"
    }
   },
   "source": [
    "## build a simple autoencoder"
   ]
  },
  {
   "cell_type": "code",
   "execution_count": 32,
   "id": "2d6508a1",
   "metadata": {
    "pycharm": {
     "name": "#%%\n"
    }
   },
   "outputs": [],
   "source": [
    "# train test split\n",
    "x_train_autoencoder, x_test_autoencoder, y_train_autoencoder, y_test_autoencoder = train_test_split(X_, y_, test_size=0.3)"
   ]
  },
  {
   "cell_type": "code",
   "execution_count": 33,
   "id": "64ab92ca",
   "metadata": {
    "pycharm": {
     "name": "#%%\n"
    }
   },
   "outputs": [],
   "source": [
    "# Min max scaler\n",
    "from sklearn.preprocessing import MinMaxScaler\n",
    "scaler_minmax = MinMaxScaler().fit(x_train_autoencoder)\n",
    "x_train_autoencoder, x_test_autoencoder = scaler_minmax.transform(x_train_autoencoder), scaler_minmax.transform(x_test_autoencoder)"
   ]
  },
  {
   "cell_type": "code",
   "execution_count": 34,
   "id": "4fcba9ce",
   "metadata": {
    "pycharm": {
     "name": "#%%\n"
    }
   },
   "outputs": [
    {
     "name": "stderr",
     "output_type": "stream",
     "text": [
      "2021-12-24 20:20:38.565586: E tensorflow/stream_executor/cuda/cuda_driver.cc:271] failed call to cuInit: CUDA_ERROR_NO_DEVICE: no CUDA-capable device is detected\n",
      "2021-12-24 20:20:38.565627: I tensorflow/stream_executor/cuda/cuda_diagnostics.cc:156] kernel driver does not appear to be running on this host (soheil-TUF-GAMING-FX504GD-FX80GD): /proc/driver/nvidia/version does not exist\n",
      "2021-12-24 20:20:38.566118: I tensorflow/core/platform/cpu_feature_guard.cc:142] This TensorFlow binary is optimized with oneAPI Deep Neural Network Library (oneDNN) to use the following CPU instructions in performance-critical operations:  AVX2 FMA\n",
      "To enable them in other operations, rebuild TensorFlow with the appropriate compiler flags.\n"
     ]
    }
   ],
   "source": [
    "input_shape = keras.Input(shape=(30,))\n",
    "encoded = keras.layers.Dense(5, activation='relu')(input_shape)\n",
    "decoded = keras.layers.Dense(30, activation='sigmoid')(encoded)\n",
    "autoencoder = keras.Model(input_shape, decoded)\n",
    "encoder = keras.Model(input_shape, encoded)\n",
    "decoder_layer = autoencoder.layers[-1]\n",
    "encoded_input = keras.Input(shape=(5,))\n",
    "decoder = keras.Model(encoded_input, decoder_layer(encoded_input))"
   ]
  },
  {
   "cell_type": "code",
   "execution_count": 35,
   "id": "4bf15adc",
   "metadata": {
    "pycharm": {
     "name": "#%%\n"
    }
   },
   "outputs": [
    {
     "name": "stderr",
     "output_type": "stream",
     "text": [
      "2021-12-24 20:20:38.647481: I tensorflow/compiler/mlir/mlir_graph_optimization_pass.cc:185] None of the MLIR Optimization Passes are enabled (registered 2)\n"
     ]
    },
    {
     "name": "stdout",
     "output_type": "stream",
     "text": [
      "Epoch 1/50\n",
      "7/7 [==============================] - 0s 21ms/step - loss: 0.7118 - binary_crossentropy: 0.7118 - val_loss: 0.7080 - val_binary_crossentropy: 0.7080\n",
      "Epoch 2/50\n",
      "7/7 [==============================] - 0s 4ms/step - loss: 0.7048 - binary_crossentropy: 0.7048 - val_loss: 0.7016 - val_binary_crossentropy: 0.7016\n",
      "Epoch 3/50\n",
      "7/7 [==============================] - 0s 4ms/step - loss: 0.6992 - binary_crossentropy: 0.6992 - val_loss: 0.6964 - val_binary_crossentropy: 0.6964\n",
      "Epoch 4/50\n",
      "7/7 [==============================] - 0s 4ms/step - loss: 0.6948 - binary_crossentropy: 0.6948 - val_loss: 0.6924 - val_binary_crossentropy: 0.6924\n",
      "Epoch 5/50\n",
      "7/7 [==============================] - 0s 4ms/step - loss: 0.6913 - binary_crossentropy: 0.6913 - val_loss: 0.6893 - val_binary_crossentropy: 0.6893\n",
      "Epoch 6/50\n",
      "7/7 [==============================] - 0s 4ms/step - loss: 0.6887 - binary_crossentropy: 0.6887 - val_loss: 0.6869 - val_binary_crossentropy: 0.6869\n",
      "Epoch 7/50\n",
      "7/7 [==============================] - 0s 4ms/step - loss: 0.6866 - binary_crossentropy: 0.6866 - val_loss: 0.6849 - val_binary_crossentropy: 0.6849\n",
      "Epoch 8/50\n",
      "7/7 [==============================] - 0s 4ms/step - loss: 0.6848 - binary_crossentropy: 0.6848 - val_loss: 0.6832 - val_binary_crossentropy: 0.6832\n",
      "Epoch 9/50\n",
      "7/7 [==============================] - 0s 5ms/step - loss: 0.6833 - binary_crossentropy: 0.6833 - val_loss: 0.6816 - val_binary_crossentropy: 0.6816\n",
      "Epoch 10/50\n",
      "7/7 [==============================] - 0s 4ms/step - loss: 0.6817 - binary_crossentropy: 0.6817 - val_loss: 0.6799 - val_binary_crossentropy: 0.6799\n",
      "Epoch 11/50\n",
      "7/7 [==============================] - 0s 4ms/step - loss: 0.6800 - binary_crossentropy: 0.6800 - val_loss: 0.6777 - val_binary_crossentropy: 0.6777\n",
      "Epoch 12/50\n",
      "7/7 [==============================] - 0s 4ms/step - loss: 0.6780 - binary_crossentropy: 0.6780 - val_loss: 0.6754 - val_binary_crossentropy: 0.6754\n",
      "Epoch 13/50\n",
      "7/7 [==============================] - 0s 4ms/step - loss: 0.6756 - binary_crossentropy: 0.6756 - val_loss: 0.6726 - val_binary_crossentropy: 0.6726\n",
      "Epoch 14/50\n",
      "7/7 [==============================] - 0s 4ms/step - loss: 0.6730 - binary_crossentropy: 0.6730 - val_loss: 0.6695 - val_binary_crossentropy: 0.6695\n",
      "Epoch 15/50\n",
      "7/7 [==============================] - 0s 4ms/step - loss: 0.6699 - binary_crossentropy: 0.6699 - val_loss: 0.6659 - val_binary_crossentropy: 0.6659\n",
      "Epoch 16/50\n",
      "7/7 [==============================] - 0s 4ms/step - loss: 0.6666 - binary_crossentropy: 0.6666 - val_loss: 0.6620 - val_binary_crossentropy: 0.6620\n",
      "Epoch 17/50\n",
      "7/7 [==============================] - 0s 4ms/step - loss: 0.6629 - binary_crossentropy: 0.6629 - val_loss: 0.6578 - val_binary_crossentropy: 0.6578\n",
      "Epoch 18/50\n",
      "7/7 [==============================] - 0s 4ms/step - loss: 0.6591 - binary_crossentropy: 0.6591 - val_loss: 0.6534 - val_binary_crossentropy: 0.6534\n",
      "Epoch 19/50\n",
      "7/7 [==============================] - 0s 4ms/step - loss: 0.6551 - binary_crossentropy: 0.6551 - val_loss: 0.6489 - val_binary_crossentropy: 0.6489\n",
      "Epoch 20/50\n",
      "7/7 [==============================] - 0s 4ms/step - loss: 0.6510 - binary_crossentropy: 0.6510 - val_loss: 0.6443 - val_binary_crossentropy: 0.6443\n",
      "Epoch 21/50\n",
      "7/7 [==============================] - 0s 4ms/step - loss: 0.6469 - binary_crossentropy: 0.6469 - val_loss: 0.6397 - val_binary_crossentropy: 0.6397\n",
      "Epoch 22/50\n",
      "7/7 [==============================] - 0s 3ms/step - loss: 0.6427 - binary_crossentropy: 0.6427 - val_loss: 0.6352 - val_binary_crossentropy: 0.6352\n",
      "Epoch 23/50\n",
      "7/7 [==============================] - 0s 3ms/step - loss: 0.6388 - binary_crossentropy: 0.6388 - val_loss: 0.6308 - val_binary_crossentropy: 0.6308\n",
      "Epoch 24/50\n",
      "7/7 [==============================] - 0s 4ms/step - loss: 0.6349 - binary_crossentropy: 0.6349 - val_loss: 0.6266 - val_binary_crossentropy: 0.6266\n",
      "Epoch 25/50\n",
      "7/7 [==============================] - 0s 4ms/step - loss: 0.6313 - binary_crossentropy: 0.6313 - val_loss: 0.6227 - val_binary_crossentropy: 0.6227\n",
      "Epoch 26/50\n",
      "7/7 [==============================] - 0s 5ms/step - loss: 0.6278 - binary_crossentropy: 0.6278 - val_loss: 0.6189 - val_binary_crossentropy: 0.6189\n",
      "Epoch 27/50\n",
      "7/7 [==============================] - 0s 4ms/step - loss: 0.6246 - binary_crossentropy: 0.6246 - val_loss: 0.6155 - val_binary_crossentropy: 0.6155\n",
      "Epoch 28/50\n",
      "7/7 [==============================] - 0s 4ms/step - loss: 0.6216 - binary_crossentropy: 0.6216 - val_loss: 0.6123 - val_binary_crossentropy: 0.6123\n",
      "Epoch 29/50\n",
      "7/7 [==============================] - 0s 4ms/step - loss: 0.6189 - binary_crossentropy: 0.6189 - val_loss: 0.6094 - val_binary_crossentropy: 0.6094\n",
      "Epoch 30/50\n",
      "7/7 [==============================] - 0s 4ms/step - loss: 0.6164 - binary_crossentropy: 0.6164 - val_loss: 0.6068 - val_binary_crossentropy: 0.6068\n",
      "Epoch 31/50\n",
      "7/7 [==============================] - 0s 5ms/step - loss: 0.6141 - binary_crossentropy: 0.6141 - val_loss: 0.6045 - val_binary_crossentropy: 0.6045\n",
      "Epoch 32/50\n",
      "7/7 [==============================] - 0s 4ms/step - loss: 0.6121 - binary_crossentropy: 0.6121 - val_loss: 0.6023 - val_binary_crossentropy: 0.6023\n",
      "Epoch 33/50\n",
      "7/7 [==============================] - 0s 4ms/step - loss: 0.6102 - binary_crossentropy: 0.6102 - val_loss: 0.6004 - val_binary_crossentropy: 0.6004\n",
      "Epoch 34/50\n",
      "7/7 [==============================] - 0s 4ms/step - loss: 0.6085 - binary_crossentropy: 0.6085 - val_loss: 0.5987 - val_binary_crossentropy: 0.5987\n",
      "Epoch 35/50\n",
      "7/7 [==============================] - 0s 4ms/step - loss: 0.6070 - binary_crossentropy: 0.6070 - val_loss: 0.5971 - val_binary_crossentropy: 0.5971\n",
      "Epoch 36/50\n",
      "7/7 [==============================] - 0s 4ms/step - loss: 0.6056 - binary_crossentropy: 0.6056 - val_loss: 0.5957 - val_binary_crossentropy: 0.5957\n",
      "Epoch 37/50\n",
      "7/7 [==============================] - 0s 4ms/step - loss: 0.6044 - binary_crossentropy: 0.6044 - val_loss: 0.5944 - val_binary_crossentropy: 0.5944\n",
      "Epoch 38/50\n",
      "7/7 [==============================] - 0s 3ms/step - loss: 0.6032 - binary_crossentropy: 0.6032 - val_loss: 0.5933 - val_binary_crossentropy: 0.5933\n",
      "Epoch 39/50\n",
      "7/7 [==============================] - 0s 3ms/step - loss: 0.6022 - binary_crossentropy: 0.6022 - val_loss: 0.5923 - val_binary_crossentropy: 0.5923\n",
      "Epoch 40/50\n",
      "7/7 [==============================] - 0s 3ms/step - loss: 0.6012 - binary_crossentropy: 0.6012 - val_loss: 0.5913 - val_binary_crossentropy: 0.5913\n",
      "Epoch 41/50\n",
      "7/7 [==============================] - 0s 3ms/step - loss: 0.6004 - binary_crossentropy: 0.6004 - val_loss: 0.5904 - val_binary_crossentropy: 0.5904\n",
      "Epoch 42/50\n",
      "7/7 [==============================] - 0s 3ms/step - loss: 0.5996 - binary_crossentropy: 0.5996 - val_loss: 0.5896 - val_binary_crossentropy: 0.5896\n",
      "Epoch 43/50\n",
      "7/7 [==============================] - 0s 4ms/step - loss: 0.5988 - binary_crossentropy: 0.5988 - val_loss: 0.5889 - val_binary_crossentropy: 0.5889\n",
      "Epoch 44/50\n",
      "7/7 [==============================] - 0s 3ms/step - loss: 0.5981 - binary_crossentropy: 0.5981 - val_loss: 0.5882 - val_binary_crossentropy: 0.5882\n",
      "Epoch 45/50\n",
      "7/7 [==============================] - 0s 3ms/step - loss: 0.5975 - binary_crossentropy: 0.5975 - val_loss: 0.5875 - val_binary_crossentropy: 0.5875\n",
      "Epoch 46/50\n",
      "7/7 [==============================] - 0s 3ms/step - loss: 0.5969 - binary_crossentropy: 0.5969 - val_loss: 0.5869 - val_binary_crossentropy: 0.5869\n",
      "Epoch 47/50\n",
      "7/7 [==============================] - 0s 3ms/step - loss: 0.5963 - binary_crossentropy: 0.5963 - val_loss: 0.5864 - val_binary_crossentropy: 0.5864\n",
      "Epoch 48/50\n",
      "7/7 [==============================] - 0s 3ms/step - loss: 0.5958 - binary_crossentropy: 0.5958 - val_loss: 0.5858 - val_binary_crossentropy: 0.5858\n",
      "Epoch 49/50\n",
      "7/7 [==============================] - 0s 3ms/step - loss: 0.5953 - binary_crossentropy: 0.5953 - val_loss: 0.5853 - val_binary_crossentropy: 0.5853\n",
      "Epoch 50/50\n",
      "7/7 [==============================] - 0s 3ms/step - loss: 0.5948 - binary_crossentropy: 0.5948 - val_loss: 0.5848 - val_binary_crossentropy: 0.5848\n"
     ]
    },
    {
     "data": {
      "text/plain": [
       "<keras.callbacks.History at 0x7f71946ae1f0>"
      ]
     },
     "execution_count": 35,
     "metadata": {},
     "output_type": "execute_result"
    }
   ],
   "source": [
    "autoencoder.compile(optimizer='adam', loss='binary_crossentropy', metrics='binary_crossentropy')\n",
    "autoencoder.fit(x_train_autoencoder, x_train_autoencoder,\n",
    "                epochs=50,\n",
    "                batch_size=100,\n",
    "                shuffle=True,\n",
    "                validation_data=(x_test_autoencoder, x_test_autoencoder))"
   ]
  },
  {
   "cell_type": "code",
   "execution_count": 36,
   "id": "e30875e3",
   "metadata": {
    "pycharm": {
     "name": "#%%\n"
    }
   },
   "outputs": [],
   "source": [
    "encoded_input_1 = encoder.predict(x_test_autoencoder)\n",
    "encoded_input_tr = encoder.predict(x_train_autoencoder)\n",
    "decoded_input_1 = decoder.predict(encoded_input_1)"
   ]
  },
  {
   "cell_type": "code",
   "execution_count": 37,
   "id": "6aafc429",
   "metadata": {
    "pycharm": {
     "name": "#%%\n"
    }
   },
   "outputs": [],
   "source": [
    "x_train_encoded_l1, x_test_encoded_l1 = encoder(x_train_autoencoder), encoder(x_test_autoencoder)"
   ]
  },
  {
   "cell_type": "markdown",
   "id": "a554efd9",
   "metadata": {
    "pycharm": {
     "name": "#%% md\n"
    }
   },
   "source": [
    "# Classification Rules without feature selection and autoencoder"
   ]
  },
  {
   "cell_type": "markdown",
   "id": "c22b4882",
   "metadata": {
    "pycharm": {
     "name": "#%% md\n"
    }
   },
   "source": [
    "Deterministic Models (Indirect methods)"
   ]
  },
  {
   "cell_type": "code",
   "execution_count": 38,
   "id": "456ac186",
   "metadata": {
    "pycharm": {
     "name": "#%%\n"
    }
   },
   "outputs": [],
   "source": [
    "from sklearn.tree import DecisionTreeClassifier\n",
    "from sklearn.metrics import classification_report, confusion_matrix\n",
    "from sklearn.tree import export_text\n",
    "from sklearn import tree"
   ]
  },
  {
   "cell_type": "code",
   "execution_count": 39,
   "id": "f3eb5981",
   "metadata": {
    "pycharm": {
     "name": "#%%\n"
    }
   },
   "outputs": [
    {
     "data": {
      "text/plain": [
       "DecisionTreeClassifier(criterion='entropy', min_samples_leaf=10,\n",
       "                       min_samples_split=10)"
      ]
     },
     "execution_count": 39,
     "metadata": {},
     "output_type": "execute_result"
    }
   ],
   "source": [
    "# classification rules (decision tree)\n",
    "# for dimention reduction with autoencoder data\n",
    "clf_tree_ = DecisionTreeClassifier(criterion='entropy', splitter='best',min_samples_leaf=10, min_samples_split=10)\n",
    "clf_tree_.fit(x_train_encoded_l1, y_train_autoencoder)"
   ]
  },
  {
   "cell_type": "code",
   "execution_count": 40,
   "id": "2e770e27",
   "metadata": {
    "pycharm": {
     "name": "#%%\n"
    }
   },
   "outputs": [],
   "source": [
    "feature_names_auto = ['PCA att 1',\n",
    "                      'PCA att 2',\n",
    "                      'PCA att 3',\n",
    "                      'PCA att 4',\n",
    "                      'PCA att 5']"
   ]
  },
  {
   "cell_type": "code",
   "execution_count": 41,
   "id": "9cd9390e",
   "metadata": {
    "pycharm": {
     "name": "#%%\n"
    }
   },
   "outputs": [
    {
     "name": "stdout",
     "output_type": "stream",
     "text": [
      "|--- PCA att 4 <= 2.77\n",
      "|   |--- PCA att 4 <= 2.53\n",
      "|   |   |--- class: 1\n",
      "|   |--- PCA att 4 >  2.53\n",
      "|   |   |--- PCA att 5 <= 2.46\n",
      "|   |   |   |--- PCA att 4 <= 2.62\n",
      "|   |   |   |   |--- class: 1\n",
      "|   |   |   |--- PCA att 4 >  2.62\n",
      "|   |   |   |   |--- class: 0\n",
      "|   |   |--- PCA att 5 >  2.46\n",
      "|   |   |   |--- PCA att 4 <= 2.70\n",
      "|   |   |   |   |--- class: 1\n",
      "|   |   |   |--- PCA att 4 >  2.70\n",
      "|   |   |   |   |--- class: 1\n",
      "|--- PCA att 4 >  2.77\n",
      "|   |--- PCA att 5 <= 2.71\n",
      "|   |   |--- PCA att 4 <= 2.94\n",
      "|   |   |   |--- PCA att 5 <= 2.43\n",
      "|   |   |   |   |--- PCA att 4 <= 2.83\n",
      "|   |   |   |   |   |--- class: 0\n",
      "|   |   |   |   |--- PCA att 4 >  2.83\n",
      "|   |   |   |   |   |--- class: 0\n",
      "|   |   |   |--- PCA att 5 >  2.43\n",
      "|   |   |   |   |--- PCA att 4 <= 2.81\n",
      "|   |   |   |   |   |--- class: 0\n",
      "|   |   |   |   |--- PCA att 4 >  2.81\n",
      "|   |   |   |   |   |--- PCA att 5 <= 2.45\n",
      "|   |   |   |   |   |   |--- class: 0\n",
      "|   |   |   |   |   |--- PCA att 5 >  2.45\n",
      "|   |   |   |   |   |   |--- PCA att 5 <= 2.50\n",
      "|   |   |   |   |   |   |   |--- PCA att 5 <= 2.46\n",
      "|   |   |   |   |   |   |   |   |--- class: 0\n",
      "|   |   |   |   |   |   |   |--- PCA att 5 >  2.46\n",
      "|   |   |   |   |   |   |   |   |--- class: 0\n",
      "|   |   |   |   |   |   |--- PCA att 5 >  2.50\n",
      "|   |   |   |   |   |   |   |--- PCA att 4 <= 2.93\n",
      "|   |   |   |   |   |   |   |   |--- PCA att 5 <= 2.58\n",
      "|   |   |   |   |   |   |   |   |   |--- class: 0\n",
      "|   |   |   |   |   |   |   |   |--- PCA att 5 >  2.58\n",
      "|   |   |   |   |   |   |   |   |   |--- PCA att 4 <= 2.90\n",
      "|   |   |   |   |   |   |   |   |   |   |--- class: 0\n",
      "|   |   |   |   |   |   |   |   |   |--- PCA att 4 >  2.90\n",
      "|   |   |   |   |   |   |   |   |   |   |--- class: 0\n",
      "|   |   |   |   |   |   |   |--- PCA att 4 >  2.93\n",
      "|   |   |   |   |   |   |   |   |--- class: 0\n",
      "|   |   |--- PCA att 4 >  2.94\n",
      "|   |   |   |--- PCA att 5 <= 2.42\n",
      "|   |   |   |   |--- class: 0\n",
      "|   |   |   |--- PCA att 5 >  2.42\n",
      "|   |   |   |   |--- PCA att 4 <= 3.01\n",
      "|   |   |   |   |   |--- PCA att 4 <= 3.00\n",
      "|   |   |   |   |   |   |--- PCA att 5 <= 2.56\n",
      "|   |   |   |   |   |   |   |--- class: 0\n",
      "|   |   |   |   |   |   |--- PCA att 5 >  2.56\n",
      "|   |   |   |   |   |   |   |--- PCA att 1 <= 0.05\n",
      "|   |   |   |   |   |   |   |   |--- PCA att 5 <= 2.60\n",
      "|   |   |   |   |   |   |   |   |   |--- class: 0\n",
      "|   |   |   |   |   |   |   |   |--- PCA att 5 >  2.60\n",
      "|   |   |   |   |   |   |   |   |   |--- class: 0\n",
      "|   |   |   |   |   |   |   |--- PCA att 1 >  0.05\n",
      "|   |   |   |   |   |   |   |   |--- class: 0\n",
      "|   |   |   |   |   |--- PCA att 4 >  3.00\n",
      "|   |   |   |   |   |   |--- class: 0\n",
      "|   |   |   |   |--- PCA att 4 >  3.01\n",
      "|   |   |   |   |   |--- class: 0\n",
      "|   |--- PCA att 5 >  2.71\n",
      "|   |   |--- PCA att 1 <= 0.01\n",
      "|   |   |   |--- PCA att 4 <= 3.01\n",
      "|   |   |   |   |--- class: 1\n",
      "|   |   |   |--- PCA att 4 >  3.01\n",
      "|   |   |   |   |--- class: 0\n",
      "|   |   |--- PCA att 1 >  0.01\n",
      "|   |   |   |--- PCA att 5 <= 2.77\n",
      "|   |   |   |   |--- class: 0\n",
      "|   |   |   |--- PCA att 5 >  2.77\n",
      "|   |   |   |   |--- class: 0\n",
      "\n"
     ]
    }
   ],
   "source": [
    "text_representation_auto = export_text(clf_tree_, feature_names=feature_names_auto)\n",
    "print(text_representation_auto)"
   ]
  },
  {
   "cell_type": "markdown",
   "id": "37cc00b4",
   "metadata": {
    "pycharm": {
     "name": "#%% md\n"
    }
   },
   "source": [
    "# Dimention Reduction (Autoencoder) in V10, V12, V14"
   ]
  },
  {
   "cell_type": "code",
   "execution_count": 42,
   "id": "cadb3ed8",
   "metadata": {
    "pycharm": {
     "name": "#%%\n"
    }
   },
   "outputs": [],
   "source": [
    "import keras\n",
    "import tensorflow as tf"
   ]
  },
  {
   "cell_type": "code",
   "execution_count": 43,
   "id": "006ea3ce",
   "metadata": {
    "pycharm": {
     "name": "#%%\n"
    }
   },
   "outputs": [],
   "source": [
    "# train test split\n",
    "x_train_autoencoder_v10, x_test_autoencoder_v10, y_train_autoencoder_v10, y_test_autoencoder_v10 = train_test_split(X_V10_12_14, y_V10_12_14, test_size=0.3)"
   ]
  },
  {
   "cell_type": "code",
   "execution_count": 44,
   "id": "66fbdf72",
   "metadata": {
    "pycharm": {
     "name": "#%%\n"
    }
   },
   "outputs": [],
   "source": [
    "# Min max scaler\n",
    "from sklearn.preprocessing import MinMaxScaler\n",
    "scaler_minmax_v10 = MinMaxScaler().fit(x_train_autoencoder_v10)\n",
    "x_train_autoencoder_v10, x_test_autoencoder_v10 = scaler_minmax_v10.transform(x_train_autoencoder_v10), scaler_minmax_v10.transform(x_test_autoencoder_v10)"
   ]
  },
  {
   "cell_type": "markdown",
   "id": "433cf30a",
   "metadata": {
    "pycharm": {
     "name": "#%% md\n"
    }
   },
   "source": [
    "## build a simple autoencoder"
   ]
  },
  {
   "cell_type": "code",
   "execution_count": 45,
   "id": "3757139e",
   "metadata": {
    "pycharm": {
     "name": "#%%\n"
    }
   },
   "outputs": [],
   "source": [
    "input_shape_v10 = keras.Input(shape=(5,))\n",
    "encoded_v10 = keras.layers.Dense(2, activation='relu')(input_shape_v10)\n",
    "decoded_v10 = keras.layers.Dense(5, activation='sigmoid')(encoded_v10)\n",
    "autoencoder_v10 = keras.Model(input_shape_v10, decoded_v10)\n",
    "encoder_v10 = keras.Model(input_shape_v10, encoded_v10)\n",
    "decoder_layer_v10 = autoencoder_v10.layers[-1]\n",
    "encoded_input_v10 = keras.Input(shape=(2,))\n",
    "decoder_v10 = keras.Model(encoded_input_v10, decoder_layer_v10(encoded_input_v10))"
   ]
  },
  {
   "cell_type": "code",
   "execution_count": 46,
   "id": "99f1ee7a",
   "metadata": {
    "pycharm": {
     "name": "#%%\n"
    }
   },
   "outputs": [
    {
     "name": "stdout",
     "output_type": "stream",
     "text": [
      "Epoch 1/50\n",
      "33/33 [==============================] - 0s 3ms/step - loss: 0.6820 - binary_crossentropy: 0.6820 - val_loss: 0.6771 - val_binary_crossentropy: 0.6771\n",
      "Epoch 2/50\n",
      "33/33 [==============================] - 0s 1ms/step - loss: 0.6688 - binary_crossentropy: 0.6688 - val_loss: 0.6640 - val_binary_crossentropy: 0.6640\n",
      "Epoch 3/50\n",
      "33/33 [==============================] - 0s 1ms/step - loss: 0.6558 - binary_crossentropy: 0.6558 - val_loss: 0.6506 - val_binary_crossentropy: 0.6506\n",
      "Epoch 4/50\n",
      "33/33 [==============================] - 0s 2ms/step - loss: 0.6426 - binary_crossentropy: 0.6426 - val_loss: 0.6375 - val_binary_crossentropy: 0.6375\n",
      "Epoch 5/50\n",
      "33/33 [==============================] - 0s 1ms/step - loss: 0.6298 - binary_crossentropy: 0.6298 - val_loss: 0.6246 - val_binary_crossentropy: 0.6246\n",
      "Epoch 6/50\n",
      "33/33 [==============================] - 0s 1ms/step - loss: 0.6172 - binary_crossentropy: 0.6172 - val_loss: 0.6122 - val_binary_crossentropy: 0.6122\n",
      "Epoch 7/50\n",
      "33/33 [==============================] - 0s 1ms/step - loss: 0.6052 - binary_crossentropy: 0.6052 - val_loss: 0.5999 - val_binary_crossentropy: 0.5999\n",
      "Epoch 8/50\n",
      "33/33 [==============================] - 0s 1ms/step - loss: 0.5935 - binary_crossentropy: 0.5935 - val_loss: 0.5884 - val_binary_crossentropy: 0.5884\n",
      "Epoch 9/50\n",
      "33/33 [==============================] - 0s 1ms/step - loss: 0.5825 - binary_crossentropy: 0.5825 - val_loss: 0.5773 - val_binary_crossentropy: 0.5773\n",
      "Epoch 10/50\n",
      "33/33 [==============================] - 0s 1ms/step - loss: 0.5720 - binary_crossentropy: 0.5720 - val_loss: 0.5670 - val_binary_crossentropy: 0.5670\n",
      "Epoch 11/50\n",
      "33/33 [==============================] - 0s 2ms/step - loss: 0.5621 - binary_crossentropy: 0.5621 - val_loss: 0.5572 - val_binary_crossentropy: 0.5572\n",
      "Epoch 12/50\n",
      "33/33 [==============================] - 0s 1ms/step - loss: 0.5529 - binary_crossentropy: 0.5529 - val_loss: 0.5479 - val_binary_crossentropy: 0.5479\n",
      "Epoch 13/50\n",
      "33/33 [==============================] - 0s 1ms/step - loss: 0.5441 - binary_crossentropy: 0.5441 - val_loss: 0.5394 - val_binary_crossentropy: 0.5394\n",
      "Epoch 14/50\n",
      "33/33 [==============================] - 0s 1ms/step - loss: 0.5360 - binary_crossentropy: 0.5360 - val_loss: 0.5312 - val_binary_crossentropy: 0.5312\n",
      "Epoch 15/50\n",
      "33/33 [==============================] - 0s 1ms/step - loss: 0.5284 - binary_crossentropy: 0.5284 - val_loss: 0.5237 - val_binary_crossentropy: 0.5237\n",
      "Epoch 16/50\n",
      "33/33 [==============================] - 0s 1ms/step - loss: 0.5213 - binary_crossentropy: 0.5213 - val_loss: 0.5167 - val_binary_crossentropy: 0.5167\n",
      "Epoch 17/50\n",
      "33/33 [==============================] - 0s 1ms/step - loss: 0.5148 - binary_crossentropy: 0.5148 - val_loss: 0.5101 - val_binary_crossentropy: 0.5101\n",
      "Epoch 18/50\n",
      "33/33 [==============================] - 0s 1ms/step - loss: 0.5086 - binary_crossentropy: 0.5086 - val_loss: 0.5041 - val_binary_crossentropy: 0.5041\n",
      "Epoch 19/50\n",
      "33/33 [==============================] - 0s 1ms/step - loss: 0.5030 - binary_crossentropy: 0.5030 - val_loss: 0.4984 - val_binary_crossentropy: 0.4984\n",
      "Epoch 20/50\n",
      "33/33 [==============================] - 0s 1ms/step - loss: 0.4976 - binary_crossentropy: 0.4976 - val_loss: 0.4931 - val_binary_crossentropy: 0.4931\n",
      "Epoch 21/50\n",
      "33/33 [==============================] - 0s 1ms/step - loss: 0.4927 - binary_crossentropy: 0.4927 - val_loss: 0.4882 - val_binary_crossentropy: 0.4882\n",
      "Epoch 22/50\n",
      "33/33 [==============================] - 0s 1ms/step - loss: 0.4882 - binary_crossentropy: 0.4882 - val_loss: 0.4837 - val_binary_crossentropy: 0.4837\n",
      "Epoch 23/50\n",
      "33/33 [==============================] - 0s 1ms/step - loss: 0.4840 - binary_crossentropy: 0.4840 - val_loss: 0.4795 - val_binary_crossentropy: 0.4795\n",
      "Epoch 24/50\n",
      "33/33 [==============================] - 0s 1ms/step - loss: 0.4800 - binary_crossentropy: 0.4800 - val_loss: 0.4756 - val_binary_crossentropy: 0.4756\n",
      "Epoch 25/50\n",
      "33/33 [==============================] - 0s 1ms/step - loss: 0.4764 - binary_crossentropy: 0.4764 - val_loss: 0.4720 - val_binary_crossentropy: 0.4720\n",
      "Epoch 26/50\n",
      "33/33 [==============================] - 0s 1ms/step - loss: 0.4730 - binary_crossentropy: 0.4730 - val_loss: 0.4686 - val_binary_crossentropy: 0.4686\n",
      "Epoch 27/50\n",
      "33/33 [==============================] - 0s 2ms/step - loss: 0.4698 - binary_crossentropy: 0.4698 - val_loss: 0.4654 - val_binary_crossentropy: 0.4654\n",
      "Epoch 28/50\n",
      "33/33 [==============================] - 0s 1ms/step - loss: 0.4669 - binary_crossentropy: 0.4669 - val_loss: 0.4624 - val_binary_crossentropy: 0.4624\n",
      "Epoch 29/50\n",
      "33/33 [==============================] - 0s 1ms/step - loss: 0.4641 - binary_crossentropy: 0.4641 - val_loss: 0.4596 - val_binary_crossentropy: 0.4596\n",
      "Epoch 30/50\n",
      "33/33 [==============================] - 0s 1ms/step - loss: 0.4615 - binary_crossentropy: 0.4615 - val_loss: 0.4570 - val_binary_crossentropy: 0.4570\n",
      "Epoch 31/50\n",
      "33/33 [==============================] - 0s 1ms/step - loss: 0.4591 - binary_crossentropy: 0.4591 - val_loss: 0.4546 - val_binary_crossentropy: 0.4546\n",
      "Epoch 32/50\n",
      "33/33 [==============================] - 0s 1ms/step - loss: 0.4568 - binary_crossentropy: 0.4568 - val_loss: 0.4523 - val_binary_crossentropy: 0.4523\n",
      "Epoch 33/50\n",
      "33/33 [==============================] - 0s 1ms/step - loss: 0.4547 - binary_crossentropy: 0.4547 - val_loss: 0.4501 - val_binary_crossentropy: 0.4501\n",
      "Epoch 34/50\n",
      "33/33 [==============================] - 0s 1ms/step - loss: 0.4527 - binary_crossentropy: 0.4527 - val_loss: 0.4480 - val_binary_crossentropy: 0.4480\n",
      "Epoch 35/50\n",
      "33/33 [==============================] - 0s 1ms/step - loss: 0.4508 - binary_crossentropy: 0.4508 - val_loss: 0.4461 - val_binary_crossentropy: 0.4461\n",
      "Epoch 36/50\n",
      "33/33 [==============================] - 0s 1ms/step - loss: 0.4490 - binary_crossentropy: 0.4490 - val_loss: 0.4442 - val_binary_crossentropy: 0.4442\n",
      "Epoch 37/50\n",
      "33/33 [==============================] - 0s 1ms/step - loss: 0.4473 - binary_crossentropy: 0.4473 - val_loss: 0.4425 - val_binary_crossentropy: 0.4425\n",
      "Epoch 38/50\n",
      "33/33 [==============================] - 0s 1ms/step - loss: 0.4457 - binary_crossentropy: 0.4457 - val_loss: 0.4408 - val_binary_crossentropy: 0.4408\n",
      "Epoch 39/50\n",
      "33/33 [==============================] - 0s 1ms/step - loss: 0.4441 - binary_crossentropy: 0.4441 - val_loss: 0.4393 - val_binary_crossentropy: 0.4393\n",
      "Epoch 40/50\n",
      "33/33 [==============================] - 0s 1ms/step - loss: 0.4427 - binary_crossentropy: 0.4427 - val_loss: 0.4378 - val_binary_crossentropy: 0.4378\n",
      "Epoch 41/50\n",
      "33/33 [==============================] - 0s 1ms/step - loss: 0.4413 - binary_crossentropy: 0.4413 - val_loss: 0.4364 - val_binary_crossentropy: 0.4364\n",
      "Epoch 42/50\n",
      "33/33 [==============================] - 0s 1ms/step - loss: 0.4400 - binary_crossentropy: 0.4400 - val_loss: 0.4350 - val_binary_crossentropy: 0.4350\n",
      "Epoch 43/50\n",
      "33/33 [==============================] - 0s 1ms/step - loss: 0.4388 - binary_crossentropy: 0.4388 - val_loss: 0.4337 - val_binary_crossentropy: 0.4337\n",
      "Epoch 44/50\n",
      "33/33 [==============================] - 0s 1ms/step - loss: 0.4376 - binary_crossentropy: 0.4376 - val_loss: 0.4325 - val_binary_crossentropy: 0.4325\n",
      "Epoch 45/50\n",
      "33/33 [==============================] - 0s 1ms/step - loss: 0.4365 - binary_crossentropy: 0.4365 - val_loss: 0.4314 - val_binary_crossentropy: 0.4314\n",
      "Epoch 46/50\n",
      "33/33 [==============================] - 0s 1ms/step - loss: 0.4355 - binary_crossentropy: 0.4355 - val_loss: 0.4303 - val_binary_crossentropy: 0.4303\n",
      "Epoch 47/50\n",
      "33/33 [==============================] - 0s 1ms/step - loss: 0.4344 - binary_crossentropy: 0.4344 - val_loss: 0.4292 - val_binary_crossentropy: 0.4292\n",
      "Epoch 48/50\n",
      "33/33 [==============================] - 0s 1ms/step - loss: 0.4335 - binary_crossentropy: 0.4335 - val_loss: 0.4282 - val_binary_crossentropy: 0.4282\n",
      "Epoch 49/50\n",
      "33/33 [==============================] - 0s 1ms/step - loss: 0.4326 - binary_crossentropy: 0.4326 - val_loss: 0.4273 - val_binary_crossentropy: 0.4273\n",
      "Epoch 50/50\n",
      "33/33 [==============================] - 0s 1ms/step - loss: 0.4318 - binary_crossentropy: 0.4318 - val_loss: 0.4264 - val_binary_crossentropy: 0.4264\n"
     ]
    },
    {
     "data": {
      "text/plain": [
       "<keras.callbacks.History at 0x7f71846ab670>"
      ]
     },
     "execution_count": 46,
     "metadata": {},
     "output_type": "execute_result"
    }
   ],
   "source": [
    "autoencoder_v10.compile(optimizer='adam', loss='binary_crossentropy', metrics='binary_crossentropy')\n",
    "autoencoder_v10.fit(x_train_autoencoder_v10, x_train_autoencoder_v10,\n",
    "                epochs=50,\n",
    "                batch_size=20,\n",
    "                shuffle=True,\n",
    "                validation_data=(x_test_autoencoder_v10, x_test_autoencoder_v10))"
   ]
  },
  {
   "cell_type": "code",
   "execution_count": 47,
   "id": "9b5ce602",
   "metadata": {
    "pycharm": {
     "name": "#%%\n"
    }
   },
   "outputs": [],
   "source": [
    "encoded_input_1_v10 = encoder_v10.predict(x_test_autoencoder_v10)\n",
    "encoded_input_tr_v10 = encoder_v10.predict(x_train_autoencoder_v10)\n",
    "decoded_input_1_v10 = decoder_v10.predict(encoded_input_1_v10)"
   ]
  },
  {
   "cell_type": "code",
   "execution_count": 48,
   "id": "e7432187",
   "metadata": {
    "pycharm": {
     "name": "#%%\n"
    }
   },
   "outputs": [],
   "source": [
    "x_train_encoded_l1_v10, x_test_encoded_l1_v10 = encoder_v10(x_train_autoencoder_v10), encoder_v10(x_test_autoencoder_v10)"
   ]
  },
  {
   "cell_type": "markdown",
   "id": "ed650e10",
   "metadata": {
    "pycharm": {
     "name": "#%% md\n"
    }
   },
   "source": [
    "# Classification Rules with feature selection and autoencoder"
   ]
  },
  {
   "cell_type": "markdown",
   "id": "1030905b",
   "metadata": {
    "pycharm": {
     "name": "#%% md\n"
    }
   },
   "source": [
    "Deterministic (Indirect method):"
   ]
  },
  {
   "cell_type": "code",
   "execution_count": 49,
   "id": "3e6eac33",
   "metadata": {
    "pycharm": {
     "name": "#%%\n"
    }
   },
   "outputs": [],
   "source": [
    "from sklearn.tree import DecisionTreeClassifier\n",
    "from sklearn.metrics import classification_report, confusion_matrix\n",
    "from sklearn.tree import export_text\n",
    "from sklearn import tree"
   ]
  },
  {
   "cell_type": "code",
   "execution_count": 50,
   "id": "ec4f5ad0",
   "metadata": {
    "pycharm": {
     "name": "#%%\n"
    }
   },
   "outputs": [
    {
     "data": {
      "text/plain": [
       "DecisionTreeClassifier(criterion='entropy', min_samples_leaf=10,\n",
       "                       min_samples_split=10)"
      ]
     },
     "execution_count": 50,
     "metadata": {},
     "output_type": "execute_result"
    }
   ],
   "source": [
    "# for X_PCA_V10_12_14 data\n",
    "clf_tree_auto_v10 = DecisionTreeClassifier(criterion='entropy', splitter='best',min_samples_leaf=10, min_samples_split=10)\n",
    "clf_tree_auto_v10.fit(encoded_input_tr_v10, y_train_autoencoder_v10)"
   ]
  },
  {
   "cell_type": "code",
   "execution_count": 51,
   "id": "06d09ae9",
   "metadata": {
    "pycharm": {
     "name": "#%%\n"
    }
   },
   "outputs": [
    {
     "data": {
      "text/plain": [
       "(284, 5)"
      ]
     },
     "execution_count": 51,
     "metadata": {},
     "output_type": "execute_result"
    }
   ],
   "source": [
    "x_test_autoencoder_v10.shape"
   ]
  },
  {
   "cell_type": "code",
   "execution_count": 52,
   "id": "bd256580",
   "metadata": {
    "pycharm": {
     "name": "#%%\n"
    }
   },
   "outputs": [],
   "source": [
    "feature_names_auto_v10 = ['PCA att 1',\n",
    "                          'PCA att 2']"
   ]
  },
  {
   "cell_type": "code",
   "execution_count": 53,
   "id": "ac5535a1",
   "metadata": {
    "pycharm": {
     "name": "#%%\n"
    }
   },
   "outputs": [
    {
     "name": "stdout",
     "output_type": "stream",
     "text": [
      "|--- PCA att 2 <= 2.25\n",
      "|   |--- PCA att 2 <= 1.85\n",
      "|   |   |--- class: 1\n",
      "|   |--- PCA att 2 >  1.85\n",
      "|   |   |--- PCA att 2 <= 2.12\n",
      "|   |   |   |--- PCA att 2 <= 1.98\n",
      "|   |   |   |   |--- class: 1\n",
      "|   |   |   |--- PCA att 2 >  1.98\n",
      "|   |   |   |   |--- class: 1\n",
      "|   |   |--- PCA att 2 >  2.12\n",
      "|   |   |   |--- class: 1\n",
      "|--- PCA att 2 >  2.25\n",
      "|   |--- PCA att 2 <= 2.44\n",
      "|   |   |--- PCA att 2 <= 2.44\n",
      "|   |   |   |--- class: 0\n",
      "|   |   |--- PCA att 2 >  2.44\n",
      "|   |   |   |--- class: 0\n",
      "|   |--- PCA att 2 >  2.44\n",
      "|   |   |--- class: 0\n",
      "\n"
     ]
    }
   ],
   "source": [
    "text_representation_auto_v10 = export_text(clf_tree_auto_v10, feature_names=feature_names_auto_v10)\n",
    "print(text_representation_auto_v10)"
   ]
  },
  {
   "cell_type": "code",
   "execution_count": null,
   "id": "d6d5b5f1",
   "metadata": {
    "pycharm": {
     "name": "#%%\n"
    }
   },
   "outputs": [],
   "source": []
  },
  {
   "cell_type": "code",
   "execution_count": 54,
   "id": "b2e949f0",
   "metadata": {
    "pycharm": {
     "name": "#%%\n"
    }
   },
   "outputs": [
    {
     "data": {
      "text/plain": [
       "42700     1\n",
       "79874     1\n",
       "144108    1\n",
       "120       0\n",
       "251       0\n",
       "         ..\n",
       "191359    1\n",
       "141259    1\n",
       "44001     1\n",
       "366       0\n",
       "79835     1\n",
       "Name: Class, Length: 660, dtype: int64"
      ]
     },
     "execution_count": 54,
     "metadata": {},
     "output_type": "execute_result"
    }
   ],
   "source": [
    "y_train_autoencoder_v10"
   ]
  },
  {
   "cell_type": "markdown",
   "id": "cda32836",
   "metadata": {
    "pycharm": {
     "name": "#%% md\n"
    }
   },
   "source": [
    "# Classification Rules for best model in deterministic model (with feature selection and autoencoder)\n",
    "Non-deterministic Models based on probability theory (Bayes Classifier)"
   ]
  },
  {
   "cell_type": "code",
   "execution_count": 55,
   "id": "9d1976f4",
   "metadata": {
    "pycharm": {
     "name": "#%%\n"
    }
   },
   "outputs": [],
   "source": [
    "from sklearn.naive_bayes import GaussianNB"
   ]
  },
  {
   "cell_type": "code",
   "execution_count": 56,
   "id": "3a3661e3",
   "metadata": {
    "pycharm": {
     "name": "#%%\n"
    }
   },
   "outputs": [
    {
     "data": {
      "text/plain": [
       "GaussianNB()"
      ]
     },
     "execution_count": 56,
     "metadata": {},
     "output_type": "execute_result"
    }
   ],
   "source": [
    "clf_model_nb = GaussianNB()\n",
    "clf_model_nb.fit(encoded_input_tr_v10, y_train_autoencoder_v10)"
   ]
  },
  {
   "cell_type": "markdown",
   "id": "7fb86e2a",
   "metadata": {
    "pycharm": {
     "name": "#%% md\n"
    }
   },
   "source": [
    "# Classification Rules for best model in deterministic model (with feature selection and PCA)\n",
    "Non-deterministic Models based on fuzzy logic"
   ]
  },
  {
   "cell_type": "code",
   "execution_count": 57,
   "id": "afb710ba",
   "metadata": {
    "pycharm": {
     "name": "#%%\n"
    }
   },
   "outputs": [
    {
     "name": "stdout",
     "output_type": "stream",
     "text": [
      "|--- feature_1 <= 2.25\n",
      "|   |--- feature_1 <= 1.85\n",
      "|   |   |--- class: 1\n",
      "|   |--- feature_1 >  1.85\n",
      "|   |   |--- feature_1 <= 2.12\n",
      "|   |   |   |--- feature_1 <= 1.98\n",
      "|   |   |   |   |--- class: 1\n",
      "|   |   |   |--- feature_1 >  1.98\n",
      "|   |   |   |   |--- class: 1\n",
      "|   |   |--- feature_1 >  2.12\n",
      "|   |   |   |--- class: 1\n",
      "|--- feature_1 >  2.25\n",
      "|   |--- feature_1 <= 2.44\n",
      "|   |   |--- feature_1 <= 2.44\n",
      "|   |   |   |--- class: 0\n",
      "|   |   |--- feature_1 >  2.44\n",
      "|   |   |   |--- class: 0\n",
      "|   |--- feature_1 >  2.44\n",
      "|   |   |--- class: 0\n",
      "\n"
     ]
    }
   ],
   "source": [
    "print(export_text(clf_tree_auto_v10))"
   ]
  },
  {
   "cell_type": "code",
   "execution_count": 58,
   "id": "fe971768",
   "metadata": {
    "pycharm": {
     "name": "#%%\n"
    }
   },
   "outputs": [
    {
     "data": {
      "text/plain": [
       "(284, 2)"
      ]
     },
     "execution_count": 58,
     "metadata": {},
     "output_type": "execute_result"
    }
   ],
   "source": [
    "encoded_input_1_v10.shape"
   ]
  },
  {
   "cell_type": "code",
   "execution_count": 59,
   "id": "ed91aeee",
   "metadata": {
    "pycharm": {
     "name": "#%%\n"
    }
   },
   "outputs": [
    {
     "data": {
      "text/plain": [
       "2.6910021"
      ]
     },
     "execution_count": 59,
     "metadata": {},
     "output_type": "execute_result"
    }
   ],
   "source": [
    "encoded_input_1_v10[:, 1].min()\n",
    "encoded_input_1_v10[:, 1].max()"
   ]
  },
  {
   "cell_type": "code",
   "execution_count": null,
   "id": "5175eaed",
   "metadata": {
    "pycharm": {
     "name": "#%%\n"
    }
   },
   "outputs": [],
   "source": []
  },
  {
   "cell_type": "code",
   "execution_count": null,
   "id": "430b1c48",
   "metadata": {
    "pycharm": {
     "name": "#%%\n"
    }
   },
   "outputs": [],
   "source": []
  },
  {
   "cell_type": "code",
   "execution_count": null,
   "id": "73a92684",
   "metadata": {
    "pycharm": {
     "name": "#%%\n"
    }
   },
   "outputs": [],
   "source": []
  },
  {
   "cell_type": "code",
   "execution_count": 60,
   "id": "837f1c63",
   "metadata": {
    "pycharm": {
     "name": "#%%\n"
    }
   },
   "outputs": [],
   "source": [
    "from sklearn.metrics import roc_curve, roc_auc_score"
   ]
  },
  {
   "cell_type": "code",
   "execution_count": 61,
   "id": "c177b3de",
   "metadata": {
    "pycharm": {
     "name": "#%%\n"
    }
   },
   "outputs": [],
   "source": [
    "ns_probs = [0 for _ in range(len(y_test_V10_12_14))]"
   ]
  },
  {
   "cell_type": "code",
   "execution_count": 62,
   "id": "2770df27",
   "metadata": {
    "pycharm": {
     "name": "#%%\n"
    }
   },
   "outputs": [
    {
     "name": "stdout",
     "output_type": "stream",
     "text": [
      "confusion matrix:\n",
      " [[92 10]\n",
      " [ 1 86]] \n",
      "classification report:\n",
      "               precision    recall  f1-score   support\n",
      "\n",
      "           0       0.90      0.99      0.94        93\n",
      "           1       0.99      0.90      0.94        96\n",
      "\n",
      "    accuracy                           0.94       189\n",
      "   macro avg       0.95      0.94      0.94       189\n",
      "weighted avg       0.95      0.94      0.94       189\n",
      "\n"
     ]
    }
   ],
   "source": [
    "# Classification Rules with feature selection and PCA (Deterministic (Indirect method))\n",
    "y_pre_V10_12_14 = clf_tree.predict(X_test_V10_12_14)\n",
    "dtree_v10_12_14_probs = clf_tree.predict_proba(X_test_V10_12_14)\n",
    "print('confusion matrix:\\n', confusion_matrix(y_test_V10_12_14, y_pre_V10_12_14).T,\n",
    "      '\\nclassification report:\\n', classification_report(y_test_V10_12_14, y_pre_V10_12_14))"
   ]
  },
  {
   "cell_type": "code",
   "execution_count": 63,
   "id": "7fb41608",
   "metadata": {
    "pycharm": {
     "name": "#%%\n"
    }
   },
   "outputs": [],
   "source": [
    "dtree_v10_12_14_probs = dtree_v10_12_14_probs[:, 1]"
   ]
  },
  {
   "cell_type": "code",
   "execution_count": 64,
   "id": "bd2d5a17",
   "metadata": {
    "pycharm": {
     "name": "#%%\n"
    }
   },
   "outputs": [],
   "source": [
    "# calculate scores\n",
    "ns_auc = roc_auc_score(y_test_V10_12_14, ns_probs)\n",
    "dtree_v10_12_14_probs_auc = roc_auc_score(y_test_V10_12_14, dtree_v10_12_14_probs)"
   ]
  },
  {
   "cell_type": "code",
   "execution_count": 65,
   "id": "96086408",
   "metadata": {
    "pycharm": {
     "name": "#%%\n"
    }
   },
   "outputs": [
    {
     "name": "stdout",
     "output_type": "stream",
     "text": [
      "No Skill: ROC AUC=0.500\n",
      "Decision Tree: ROC AUC=0.974\n"
     ]
    }
   ],
   "source": [
    "# summarize scores\n",
    "print('No Skill: ROC AUC=%.3f' % (ns_auc))\n",
    "print('Decision Tree: ROC AUC=%.3f' % (dtree_v10_12_14_probs_auc))"
   ]
  },
  {
   "cell_type": "code",
   "execution_count": 66,
   "id": "4f0cc6f0",
   "metadata": {
    "pycharm": {
     "name": "#%%\n"
    }
   },
   "outputs": [],
   "source": [
    "# calculate roc curves\n",
    "ns_fpr, ns_tpr, _ = roc_curve(y_test_V10_12_14, ns_probs)\n",
    "dtree_v10_12_14_fpr, dtree_v10_12_14__tpr, _ = roc_curve(y_test_V10_12_14, dtree_v10_12_14_probs)"
   ]
  },
  {
   "cell_type": "code",
   "execution_count": null,
   "id": "987f424f",
   "metadata": {
    "pycharm": {
     "name": "#%%\n"
    }
   },
   "outputs": [],
   "source": []
  },
  {
   "cell_type": "code",
   "execution_count": 67,
   "id": "bda1a034",
   "metadata": {
    "pycharm": {
     "name": "#%%\n"
    }
   },
   "outputs": [
    {
     "name": "stdout",
     "output_type": "stream",
     "text": [
      "confusion matrix:\n",
      " [[155  18]\n",
      " [  1 110]] \n",
      "classification report:\n",
      "               precision    recall  f1-score   support\n",
      "\n",
      "           0       0.90      0.99      0.94       156\n",
      "           1       0.99      0.86      0.92       128\n",
      "\n",
      "    accuracy                           0.93       284\n",
      "   macro avg       0.94      0.93      0.93       284\n",
      "weighted avg       0.94      0.93      0.93       284\n",
      "\n"
     ]
    }
   ],
   "source": [
    "# Classification Rules without feature selection and autoencoder (Deterministic Models (Indirect methods))\n",
    "y_pre_auto_tree = clf_tree_.predict(x_test_encoded_l1)\n",
    "print('confusion matrix:\\n', confusion_matrix(y_test_autoencoder, y_pre_auto_tree).T, '\\nclassification report:\\n', classification_report(y_test_autoencoder, y_pre_auto_tree))"
   ]
  },
  {
   "cell_type": "code",
   "execution_count": null,
   "id": "3469c6f8",
   "metadata": {
    "pycharm": {
     "name": "#%%\n"
    }
   },
   "outputs": [],
   "source": []
  },
  {
   "cell_type": "code",
   "execution_count": 68,
   "id": "c951f561",
   "metadata": {
    "pycharm": {
     "name": "#%%\n"
    }
   },
   "outputs": [
    {
     "name": "stdout",
     "output_type": "stream",
     "text": [
      "confusion matrix:\n",
      " [[144   1]\n",
      " [  9 130]] \n",
      "classification report:\n",
      "               precision    recall  f1-score   support\n",
      "\n",
      "           0       0.99      0.94      0.97       153\n",
      "           1       0.94      0.99      0.96       131\n",
      "\n",
      "    accuracy                           0.96       284\n",
      "   macro avg       0.96      0.97      0.96       284\n",
      "weighted avg       0.97      0.96      0.96       284\n",
      "\n"
     ]
    }
   ],
   "source": [
    "# Classification Rules with feature selection and autoencoder (Deterministic (Indirect method))\n",
    "y_pre_auto_V10 = clf_tree_auto_v10.predict(encoded_input_1_v10)\n",
    "y_pre_auto_V10_probs = clf_tree_auto_v10.predict_proba(encoded_input_1_v10)\n",
    "\n",
    "print('confusion matrix:\\n', confusion_matrix(y_test_autoencoder_v10, y_pre_auto_V10).T,\n",
    "      '\\nclassification report:\\n', classification_report(y_test_autoencoder_v10, y_pre_auto_V10))"
   ]
  },
  {
   "cell_type": "code",
   "execution_count": 69,
   "id": "82bd1d3c",
   "metadata": {
    "pycharm": {
     "name": "#%%\n"
    }
   },
   "outputs": [],
   "source": [
    "y_pre_auto_V10_probs = y_pre_auto_V10_probs[:, 1]"
   ]
  },
  {
   "cell_type": "code",
   "execution_count": 70,
   "id": "c501d6b6",
   "metadata": {
    "pycharm": {
     "name": "#%%\n"
    }
   },
   "outputs": [],
   "source": [
    "# calculate scores\n",
    "y_pre_auto_V10_probs__auc = roc_auc_score(y_test_autoencoder_v10, y_pre_auto_V10_probs)"
   ]
  },
  {
   "cell_type": "code",
   "execution_count": 71,
   "id": "9511fd7b",
   "metadata": {
    "pycharm": {
     "name": "#%%\n"
    }
   },
   "outputs": [
    {
     "name": "stdout",
     "output_type": "stream",
     "text": [
      "No Skill: ROC AUC=0.500\n",
      "Decision Tree: ROC AUC=0.985\n"
     ]
    }
   ],
   "source": [
    "# summarize scores\n",
    "print('No Skill: ROC AUC=%.3f' % (ns_auc))\n",
    "print('Decision Tree: ROC AUC=%.3f' % (y_pre_auto_V10_probs__auc))"
   ]
  },
  {
   "cell_type": "code",
   "execution_count": 72,
   "id": "553deced",
   "metadata": {
    "pycharm": {
     "name": "#%%\n"
    }
   },
   "outputs": [],
   "source": [
    "y_pre_auto_V10_fpr, y_pre_auto_V10_tpr, _ = roc_curve(y_test_autoencoder_v10, y_pre_auto_V10_probs)"
   ]
  },
  {
   "cell_type": "code",
   "execution_count": null,
   "id": "442ce61b",
   "metadata": {
    "pycharm": {
     "name": "#%%\n"
    }
   },
   "outputs": [],
   "source": []
  },
  {
   "cell_type": "code",
   "execution_count": 73,
   "id": "245f7ab3",
   "metadata": {
    "pycharm": {
     "name": "#%%\n"
    }
   },
   "outputs": [
    {
     "name": "stdout",
     "output_type": "stream",
     "text": [
      "confusion matrix:\n",
      " [[145   2]\n",
      " [  8 129]] \n",
      "classification report:\n",
      "               precision    recall  f1-score   support\n",
      "\n",
      "           0       0.99      0.95      0.97       153\n",
      "           1       0.94      0.98      0.96       131\n",
      "\n",
      "    accuracy                           0.96       284\n",
      "   macro avg       0.96      0.97      0.96       284\n",
      "weighted avg       0.97      0.96      0.96       284\n",
      "\n"
     ]
    }
   ],
   "source": [
    "# Classification Rules for best model in deterministic model (with feature selection and autoencoder)\n",
    "# Non-deterministic Models based on probability theory (Bayes Classifier)\n",
    "\n",
    "y_pre_auto_nb = clf_model_nb.predict(encoded_input_1_v10)\n",
    "y_pre_auto_nb_probs = clf_model_nb.predict_proba(encoded_input_1_v10)\n",
    "\n",
    "print('confusion matrix:\\n', confusion_matrix(y_test_autoencoder_v10, y_pre_auto_nb).T, '\\nclassification report:\\n', classification_report(y_test_autoencoder_v10, y_pre_auto_nb))"
   ]
  },
  {
   "cell_type": "code",
   "execution_count": 74,
   "id": "88649cf1",
   "metadata": {
    "pycharm": {
     "name": "#%%\n"
    }
   },
   "outputs": [],
   "source": [
    "y_pre_auto_nb_probs = y_pre_auto_nb_probs[:, 1]"
   ]
  },
  {
   "cell_type": "code",
   "execution_count": 75,
   "id": "2c49e075",
   "metadata": {
    "pycharm": {
     "name": "#%%\n"
    }
   },
   "outputs": [],
   "source": [
    "# calculate scores\n",
    "y_pre_auto_nb_probs_auc = roc_auc_score(y_test_autoencoder_v10, y_pre_auto_nb)"
   ]
  },
  {
   "cell_type": "code",
   "execution_count": 76,
   "id": "5e519740",
   "metadata": {
    "pycharm": {
     "name": "#%%\n"
    }
   },
   "outputs": [
    {
     "name": "stdout",
     "output_type": "stream",
     "text": [
      "No Skill: ROC AUC=0.500\n",
      "Naive Bayes: ROC AUC=0.966\n"
     ]
    }
   ],
   "source": [
    "# summarize scores\n",
    "print('No Skill: ROC AUC=%.3f' % (ns_auc))\n",
    "print('Naive Bayes: ROC AUC=%.3f' % (y_pre_auto_nb_probs_auc))"
   ]
  },
  {
   "cell_type": "code",
   "execution_count": 77,
   "id": "ca06c122",
   "metadata": {
    "pycharm": {
     "name": "#%%\n"
    }
   },
   "outputs": [],
   "source": [
    "y_pre_auto_nb_fpr, y_pre_auto_nb_tpr, _ = roc_curve(y_test_autoencoder_v10, y_pre_auto_nb)"
   ]
  },
  {
   "cell_type": "code",
   "execution_count": null,
   "id": "c22b7bbe",
   "metadata": {
    "pycharm": {
     "name": "#%%\n"
    }
   },
   "outputs": [],
   "source": []
  },
  {
   "cell_type": "code",
   "execution_count": 78,
   "id": "b37c1f15",
   "metadata": {
    "pycharm": {
     "name": "#%%\n"
    }
   },
   "outputs": [
    {
     "data": {
      "image/png": "[encoded data removed]",
      "text/plain": [
       "<Figure size 432x288 with 1 Axes>"
      ]
     },
     "metadata": {
      "needs_background": "light"
     },
     "output_type": "display_data"
    }
   ],
   "source": [
    "# plot the roc curve for the model\n",
    "plt.plot(ns_fpr, ns_tpr, linestyle='--', label='No Skill')\n",
    "plt.plot(dtree_v10_12_14_fpr, dtree_v10_12_14__tpr, marker='.', label='Decision Tree with PCA')\n",
    "plt.plot(y_pre_auto_V10_fpr, y_pre_auto_V10_tpr, marker='.', label='Decision Tree with Autoencoder')\n",
    "plt.plot(y_pre_auto_nb_fpr, y_pre_auto_nb_tpr, marker='.', label='Naive Bayes with Autoencoder')\n",
    "# axis labels\n",
    "plt.xlabel('False Positive Rate')\n",
    "plt.ylabel('True Positive Rate')\n",
    "# show the legend\n",
    "plt.legend()\n",
    "# show the plot\n",
    "plt.show()"
   ]
  },
  {
   "cell_type": "code",
   "execution_count": null,
   "id": "ef4f38cf",
   "metadata": {
    "pycharm": {
     "name": "#%%\n"
    }
   },
   "outputs": [],
   "source": []
  },
  {
   "cell_type": "code",
   "execution_count": null,
   "id": "30b51473",
   "metadata": {
    "pycharm": {
     "name": "#%%\n"
    }
   },
   "outputs": [],
   "source": []
  },
  {
   "cell_type": "code",
   "execution_count": null,
   "id": "c8538014",
   "metadata": {
    "pycharm": {
     "name": "#%%\n"
    }
   },
   "outputs": [],
   "source": []
  },
  {
   "cell_type": "code",
   "execution_count": null,
   "id": "7c440169",
   "metadata": {
    "pycharm": {
     "name": "#%%\n"
    }
   },
   "outputs": [],
   "source": []
  },
  {
   "cell_type": "code",
   "execution_count": null,
   "id": "50b38bd7",
   "metadata": {
    "pycharm": {
     "name": "#%%\n"
    }
   },
   "outputs": [],
   "source": []
  },
  {
   "cell_type": "code",
   "execution_count": 64,
   "id": "fb5d23b3",
   "metadata": {
    "pycharm": {
     "name": "#%%\n"
    }
   },
   "outputs": [],
   "source": [
    "import skfuzzy as fuzz"
   ]
  },
  {
   "cell_type": "code",
   "execution_count": 65,
   "id": "e662c462",
   "metadata": {
    "pycharm": {
     "name": "#%%\n"
    }
   },
   "outputs": [],
   "source": [
    "feature_1 = encoded_input_1_v10[:, 0,]\n",
    "feature_2 = encoded_input_1_v10[:, 1,]"
   ]
  },
  {
   "cell_type": "code",
   "execution_count": 66,
   "id": "3f55d597",
   "metadata": {
    "pycharm": {
     "name": "#%%\n"
    }
   },
   "outputs": [],
   "source": [
    "# Generate fuzzy membership functions\n",
    "feature_1_lo = fuzz.trimf(feature_1, [0, 0, 5])\n",
    "feature_1_md = fuzz.trimf(feature_1, [0, 5, 10])\n",
    "feature_1_hi = fuzz.trimf(feature_1, [5, 10, 10])\n",
    "\n",
    "feature_2_lo = fuzz.trimf(feature_2, [0, 0, 5])\n",
    "feature_2_md = fuzz.trimf(feature_2, [0, 5, 10])\n",
    "feature_2_hi = fuzz.trimf(feature_2, [5, 10, 10])"
   ]
  },
  {
   "cell_type": "code",
   "execution_count": 67,
   "id": "5dfa2e22",
   "metadata": {
    "pycharm": {
     "name": "#%%\n"
    }
   },
   "outputs": [
    {
     "data": {
      "image/png": "[encoded data removed]",
      "text/plain": [
       "<Figure size 576x648 with 2 Axes>"
      ]
     },
     "metadata": {
      "needs_background": "light"
     },
     "output_type": "display_data"
    }
   ],
   "source": [
    "# Visualize these universes and membership functions\n",
    "fig, (ax0, ax1) = plt.subplots(nrows=2, figsize=(8, 9))\n",
    "\n",
    "ax0.plot(feature_1, feature_1_lo, 'b', linewidth=1.5, label='low')\n",
    "ax0.plot(feature_1, feature_1_md, 'g', linewidth=1.5, label='middle')\n",
    "ax0.set_title('feature 1')\n",
    "ax0.legend()\n",
    "\n",
    "ax1.plot(feature_2, feature_2_lo, 'b', linewidth=1.5, label='low')\n",
    "ax1.plot(feature_2, feature_2_md, 'g', linewidth=1.5, label='middle')\n",
    "ax1.set_title('feature 2')\n",
    "ax1.legend()\n",
    "\n",
    "# Turn off top/right axes\n",
    "for ax in (ax0, ax1):\n",
    "    ax.spines['top'].set_visible(False)\n",
    "    ax.spines['right'].set_visible(False)\n",
    "    ax.get_xaxis().tick_bottom()\n",
    "    ax.get_yaxis().tick_left()\n",
    "\n",
    "plt.tight_layout()"
   ]
  },
  {
   "cell_type": "code",
   "execution_count": null,
   "id": "e4ffbbd0",
   "metadata": {
    "pycharm": {
     "name": "#%%\n"
    }
   },
   "outputs": [],
   "source": []
  },
  {
   "cell_type": "code",
   "execution_count": null,
   "id": "51724f93",
   "metadata": {
    "pycharm": {
     "name": "#%%\n"
    }
   },
   "outputs": [],
   "source": []
  },
  {
   "cell_type": "code",
   "execution_count": null,
   "id": "4eb0d165",
   "metadata": {
    "pycharm": {
     "name": "#%%\n"
    }
   },
   "outputs": [],
   "source": []
  },
  {
   "cell_type": "code",
   "execution_count": null,
   "id": "8c6a2a66",
   "metadata": {
    "pycharm": {
     "name": "#%%\n"
    }
   },
   "outputs": [],
   "source": []
  },
  {
   "cell_type": "code",
   "execution_count": null,
   "id": "2393d892",
   "metadata": {
    "pycharm": {
     "name": "#%%\n"
    }
   },
   "outputs": [],
   "source": []
  },
  {
   "cell_type": "code",
   "execution_count": null,
   "id": "96991586",
   "metadata": {
    "pycharm": {
     "name": "#%%\n"
    }
   },
   "outputs": [],
   "source": []
  },
  {
   "cell_type": "code",
   "execution_count": 20,
   "id": "6deacb78",
   "metadata": {
    "pycharm": {
     "name": "#%%\n"
    }
   },
   "outputs": [
    {
     "name": "stderr",
     "output_type": "stream",
     "text": [
      "C:\\ProgramData\\Anaconda3\\lib\\site-packages\\seaborn\\distributions.py:2557: FutureWarning: `distplot` is a deprecated function and will be removed in a future version. Please adapt your code to use either `displot` (a figure-level function with similar flexibility) or `histplot` (an axes-level function for histograms).\n",
      "  warnings.warn(msg, FutureWarning)\n",
      "C:\\ProgramData\\Anaconda3\\lib\\site-packages\\seaborn\\distributions.py:2557: FutureWarning: `distplot` is a deprecated function and will be removed in a future version. Please adapt your code to use either `displot` (a figure-level function with similar flexibility) or `histplot` (an axes-level function for histograms).\n",
      "  warnings.warn(msg, FutureWarning)\n"
     ]
    },
    {
     "data": {
      "image/png": "[encoded data removed]",
      "text/plain": [
       "<Figure size 1296x288 with 2 Axes>"
      ]
     },
     "metadata": {
      "needs_background": "light"
     },
     "output_type": "display_data"
    }
   ],
   "source": [
    "fig, ax = plt.subplots(1, 2, figsize=(18,4))\n",
    "\n",
    "amount_val = X['Amount'].values\n",
    "time_val = X['Time'].values\n",
    "\n",
    "sns.distplot(amount_val, ax=ax[0], color='r')\n",
    "ax[0].set_title('Distribution of Transaction Amount', fontsize=14)\n",
    "ax[0].set_xlim([min(amount_val), max(amount_val)])\n",
    "\n",
    "sns.distplot(time_val, ax=ax[1], color='b')\n",
    "ax[1].set_title('Distribution of Transaction Time', fontsize=14)\n",
    "ax[1].set_xlim([min(time_val), max(time_val)])\n",
    "\n",
    "\n",
    "\n",
    "plt.show()"
   ]
  },
  {
   "cell_type": "markdown",
   "id": "50c78a8f",
   "metadata": {
    "pycharm": {
     "name": "#%% md\n"
    }
   },
   "source": [
    "# Scatterplot"
   ]
  },
  {
   "cell_type": "code",
   "execution_count": 79,
   "id": "d96e101e",
   "metadata": {
    "pycharm": {
     "name": "#%%\n"
    }
   },
   "outputs": [
    {
     "data": {
      "image/png": "[encoded data removed]",
      "text/plain": [
       "<Figure size 432x288 with 1 Axes>"
      ]
     },
     "metadata": {
      "needs_background": "light"
     },
     "output_type": "display_data"
    }
   ],
   "source": [
    "sns.scatterplot(data=data,\n",
    "                x='V1',\n",
    "                y='V21',\n",
    "                hue='Class',\n",
    "                palette=['c','b'])\n",
    "plt.show()"
   ]
  },
  {
   "cell_type": "code",
   "execution_count": 9,
   "id": "1efa96e4",
   "metadata": {
    "pycharm": {
     "name": "#%%\n"
    }
   },
   "outputs": [],
   "source": [
    "#Creating a Function.\n",
    "def normal_dist(x , mean , sd):\n",
    "    prob_density = (np.pi*sd) * np.exp(-0.5*((x-mean)/sd)**2)\n",
    "    return prob_density"
   ]
  },
  {
   "cell_type": "code",
   "execution_count": 26,
   "id": "e309e3c6",
   "metadata": {
    "pycharm": {
     "name": "#%%\n"
    }
   },
   "outputs": [
    {
     "ename": "NameError",
     "evalue": "name 'normal_dist' is not defined",
     "output_type": "error",
     "traceback": [
      "\u001B[1;31m---------------------------------------------------------------------------\u001B[0m",
      "\u001B[1;31mNameError\u001B[0m                                 Traceback (most recent call last)",
      "\u001B[1;32m<ipython-input-26-538e155ca3eb>\u001B[0m in \u001B[0;36m<module>\u001B[1;34m\u001B[0m\n\u001B[0;32m      5\u001B[0m \u001B[1;33m\u001B[0m\u001B[0m\n\u001B[0;32m      6\u001B[0m \u001B[1;31m#Apply function to the data.\u001B[0m\u001B[1;33m\u001B[0m\u001B[1;33m\u001B[0m\u001B[1;33m\u001B[0m\u001B[0m\n\u001B[1;32m----> 7\u001B[1;33m \u001B[0mpdf_time\u001B[0m \u001B[1;33m=\u001B[0m \u001B[0mnormal_dist\u001B[0m\u001B[1;33m(\u001B[0m\u001B[0mcolumn_time\u001B[0m\u001B[1;33m,\u001B[0m\u001B[0mmean_time\u001B[0m\u001B[1;33m,\u001B[0m\u001B[0msd_time\u001B[0m\u001B[1;33m)\u001B[0m\u001B[1;33m\u001B[0m\u001B[1;33m\u001B[0m\u001B[0m\n\u001B[0m\u001B[0;32m      8\u001B[0m \u001B[1;33m\u001B[0m\u001B[0m\n\u001B[0;32m      9\u001B[0m \u001B[1;33m\u001B[0m\u001B[0m\n",
      "\u001B[1;31mNameError\u001B[0m: name 'normal_dist' is not defined"
     ]
    }
   ],
   "source": [
    "#Calculate mean and Standard deviation.\n",
    "column_time = X.Time\n",
    "mean_time = np.mean(column_time)\n",
    "sd_time = np.std(column_time)\n",
    " \n",
    "#Apply function to the data.\n",
    "pdf_time = normal_dist(column_time,mean_time,sd_time)\n",
    "    \n",
    "\n",
    "#Plotting the Results\n",
    "plt.plot(column_time,pdf_time , color = 'red')\n",
    "plt.xlabel('Data points')\n",
    "plt.ylabel('Probability Density')\n"
   ]
  },
  {
   "cell_type": "code",
   "execution_count": 19,
   "id": "5c78f4ec",
   "metadata": {
    "pycharm": {
     "name": "#%%\n"
    }
   },
   "outputs": [
    {
     "name": "stdout",
     "output_type": "stream",
     "text": [
      "Time: Mean: 94813.85957508067, Standard Deviation: 47488.06258549898\n"
     ]
    }
   ],
   "source": [
    "print(f'Time Mean: {mean_time}, Standard Deviation: {sd_time}')"
   ]
  }
 ],
 "metadata": {
  "kernelspec": {
   "display_name": "Python 3 (ipykernel)",
   "language": "python",
   "name": "python3"
  },
  "language_info": {
   "codemirror_mode": {
    "name": "ipython",
    "version": 3
   },
   "file_extension": ".py",
   "mimetype": "text/x-python",
   "name": "python",
   "nbconvert_exporter": "python",
   "pygments_lexer": "ipython3",
   "version": "3.9.6"
  }
 },
 "nbformat": 4,
 "nbformat_minor": 5
}